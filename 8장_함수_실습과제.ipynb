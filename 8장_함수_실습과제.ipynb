{
 "cells": [
  {
   "cell_type": "markdown",
   "id": "b6a82ff6",
   "metadata": {},
   "source": [
    "🧩 STEP 1. 리스트 처리 함수 (기초 + comprehension)\n",
    "📌 과제 1\n",
    "점수 리스트를 받아 70점 이상이면 '합격', 그렇지 않으면 '불합격'으로 분류된 문자열 리스트를 반환하세요.\n",
    "\n",
    "# 입력 예시: [85, 67, 90, 45]\n",
    "# 출력: ['합격', '불합격', '합격', '불합격']\n",
    "-------------------------------------------------\n",
    " v          v         답안          v       v\n",
    "-------------------------------------------------\n"
   ]
  },
  {
   "cell_type": "code",
   "execution_count": 1,
   "id": "9a95c6ec",
   "metadata": {},
   "outputs": [
    {
     "name": "stdout",
     "output_type": "stream",
     "text": [
      "['합격', '불합격', '합격', '불합격']\n"
     ]
    }
   ],
   "source": [
    "scores = [85, 67, 90, 45]\n",
    "new_scores = ['합격' if score >= 70 else '불합격' for score in scores]\n",
    "print(new_scores)"
   ]
  },
  {
   "cell_type": "markdown",
   "id": "fb351d99",
   "metadata": {},
   "source": [
    "📌 과제 2\n",
    "이름 리스트를 받아 각 이름에 순번을 붙인 리스트를 반환하세요 (enumerate() 사용).\n",
    "\n",
    "# 출력 예시: ['1. 홍길동', '2. 김유신', ...]\n",
    "\n",
    "names = [\"홍길동\", \" 김유신 \", \"이순신\", \"강 감 찬\"]\n",
    "-------------------------------------------------\n",
    " v          v         답안          v       v\n",
    "-------------------------------------------------\n"
   ]
  },
  {
   "cell_type": "code",
   "execution_count": 3,
   "id": "b0823ee3",
   "metadata": {},
   "outputs": [
    {
     "name": "stdout",
     "output_type": "stream",
     "text": [
      "['1. 홍길동', '2.  김유신 ', '3. 이순신', '4. 강 감 찬']\n"
     ]
    }
   ],
   "source": [
    "names = [\"홍길동\", \" 김유신 \", \"이순신\", \"강 감 찬\"]\n",
    "enumerateed_names = [f\"{i+1}. {name}\" for i, name in enumerate(names)]\n",
    "\n",
    "print(enumerateed_names)\n"
   ]
  },
  {
   "cell_type": "markdown",
   "id": "c4e4226a",
   "metadata": {},
   "source": [
    "🧩 STEP 2. 튜플 & zip() 처리 함수\n",
    "📌 과제 3\n",
    "이름, 점수 두 리스트를 받아 \"홍길동: 85점\"과 같은 문자열 리스트를 반환하세요 (zip() 사용).\n",
    "\n",
    "names = [\"홍길동\", \" 김유신 \", \"이순신\", \"강 감 찬\"]\n",
    "scores = [85, 70, 60, 90]"
   ]
  },
  {
   "cell_type": "code",
   "execution_count": 25,
   "id": "8a318f7b",
   "metadata": {},
   "outputs": [
    {
     "name": "stdout",
     "output_type": "stream",
     "text": [
      "['홍길동: 85점', ' 김유신 : 70점', '이순신: 60점', '강 감 찬: 90점']\n"
     ]
    }
   ],
   "source": [
    "names = [\"홍길동\", \" 김유신 \", \"이순신\", \"강 감 찬\"]\n",
    "scores = [85, 70, 60, 90]\n",
    "\n",
    "zipped = [f\"{name}: {score}점\"for name, score in zip(names, scores)]\n",
    "print(zipped)"
   ]
  },
  {
   "cell_type": "markdown",
   "id": "49743ca7",
   "metadata": {},
   "source": [
    "🧩 STEP 3. 딕셔너리 생성/변환 함수\n",
    "📌 과제 5\n",
    "이름 리스트와 점수 리스트를 받아 딕셔너리로 변환하는 함수 (zip() 사용):\n",
    "\n",
    "names = [\"홍길동\", \" 김유신 \", \"이순신\", \"강 감 찬\"]\n",
    "scores = [85, 70, 60, 90]\n",
    "\n",
    "# 입력: [\"홍길동\", \"김유신\"], [85, 90]\n",
    "# 출력: {\"홍길동\": 85, \"김유신\": 90}"
   ]
  },
  {
   "cell_type": "code",
   "execution_count": 26,
   "id": "8d319958",
   "metadata": {},
   "outputs": [
    {
     "ename": "TypeError",
     "evalue": "'dict' object is not callable",
     "output_type": "error",
     "traceback": [
      "\u001b[1;31m---------------------------------------------------------------------------\u001b[0m",
      "\u001b[1;31mTypeError\u001b[0m                                 Traceback (most recent call last)",
      "Cell \u001b[1;32mIn[26], line 4\u001b[0m\n\u001b[0;32m      1\u001b[0m names \u001b[38;5;241m=\u001b[39m [\u001b[38;5;124m\"\u001b[39m\u001b[38;5;124m홍길동\u001b[39m\u001b[38;5;124m\"\u001b[39m, \u001b[38;5;124m\"\u001b[39m\u001b[38;5;124m 김유신 \u001b[39m\u001b[38;5;124m\"\u001b[39m, \u001b[38;5;124m\"\u001b[39m\u001b[38;5;124m이순신\u001b[39m\u001b[38;5;124m\"\u001b[39m, \u001b[38;5;124m\"\u001b[39m\u001b[38;5;124m강 감 찬\u001b[39m\u001b[38;5;124m\"\u001b[39m]\n\u001b[0;32m      2\u001b[0m scores \u001b[38;5;241m=\u001b[39m [\u001b[38;5;241m85\u001b[39m, \u001b[38;5;241m70\u001b[39m, \u001b[38;5;241m60\u001b[39m, \u001b[38;5;241m90\u001b[39m]\n\u001b[1;32m----> 4\u001b[0m dic \u001b[38;5;241m=\u001b[39m \u001b[38;5;28;43mdict\u001b[39;49m\u001b[43m(\u001b[49m\u001b[38;5;28;43mzip\u001b[39;49m\u001b[43m(\u001b[49m\u001b[43mnames\u001b[49m\u001b[43m,\u001b[49m\u001b[43m \u001b[49m\u001b[43mscores\u001b[49m\u001b[43m)\u001b[49m\u001b[43m)\u001b[49m\n\u001b[0;32m      5\u001b[0m \u001b[38;5;28mprint\u001b[39m(dic)\n",
      "\u001b[1;31mTypeError\u001b[0m: 'dict' object is not callable"
     ]
    }
   ],
   "source": [
    "names = [\"홍길동\", \" 김유신 \", \"이순신\", \"강 감 찬\"]\n",
    "scores = [85, 70, 60, 90]\n",
    "\n",
    "dic = dict(zip(names, scores))\n",
    "print(dic)"
   ]
  },
  {
   "cell_type": "markdown",
   "id": "19e8e910",
   "metadata": {},
   "source": [
    "📌 과제 6\n",
    "학생 점수 딕셔너리를 받아 합격자 이름만 리스트로 반환하세요 (cutoff 지정 가능).\n",
    "\n",
    "{'홍길동': 85, '김유신': 70, '이순신': 60, '강 감 찬': 90}"
   ]
  },
  {
   "cell_type": "code",
   "execution_count": 19,
   "id": "0fa06a31",
   "metadata": {},
   "outputs": [
    {
     "name": "stdout",
     "output_type": "stream",
     "text": [
      "['홍길동', '김유신', '강감찬']\n"
     ]
    }
   ],
   "source": [
    "dic = {'홍길동': 85, '김유신': 70, '이순신': 60, '강감찬': 90}\n",
    "new_dic = [f\"{name}\"for name, score in dic.items() if score >= 70]\n",
    "print(new_dic)"
   ]
  },
  {
   "cell_type": "markdown",
   "id": "4038d9e1",
   "metadata": {},
   "source": [
    "🧩 STEP 4. 분석 보고용 함수\n",
    "📌 과제 7\n",
    "이름, 과목, 점수 리스트를 받아 \"1. 홍길동 - 수학: 85점\"과 같은 리스트를 반환하세요 (enumerate(), zip() 함께 사용)\n",
    "\n",
    "names = [\"홍길동\", \" 김유신 \", \"이순신\", \"강 감 찬\"]\n",
    "scores = [85, 70, 60, 90]\n",
    "subjects = [\"수학\", \"영어\", \"과학\", \"국어\"]"
   ]
  },
  {
   "cell_type": "code",
   "execution_count": 9,
   "id": "1a6aad81",
   "metadata": {},
   "outputs": [
    {
     "name": "stdout",
     "output_type": "stream",
     "text": [
      "['1. 홍길동 - 수학: 85점', '2.  김유신  - 영어: 70점', '3. 이순신 - 과학: 60점', '4. 강감찬 - 국어: 90점']\n"
     ]
    }
   ],
   "source": [
    "names = [\"홍길동\", \" 김유신 \", \"이순신\", \"강감찬\"]\n",
    "scores = [85, 70, 60, 90]\n",
    "subjects = [\"수학\", \"영어\", \"과학\", \"국어\"]\n",
    "\n",
    "lst = [f\"{i+1}. {name} - {subject}: {score}점\" for i, (name, score, subject) in enumerate(zip(names, scores, subjects))]\n",
    "print(lst)"
   ]
  },
  {
   "cell_type": "markdown",
   "id": "e4bc85af",
   "metadata": {},
   "source": [
    "🧩 STEP 5. 집계 및 정제 함수\n",
    "📌 과제 8\n",
    "문자열 리스트에서 공백 제거 + 소문자 변환 + 중복 제거된 정렬 리스트를 반환하세요.\n",
    "\n",
    "['HONG GIL DONG', 'HONG GIL DONG', 'KIM YU SIN', 'KIM YU SIN', 'LEE SUN SIN', 'LEE SUN SIN', 'KANG GAM CHAN', 'KANG GAM CHAN']"
   ]
  },
  {
   "cell_type": "code",
   "execution_count": 32,
   "id": "bc0a4e6a",
   "metadata": {},
   "outputs": [
    {
     "name": "stdout",
     "output_type": "stream",
     "text": [
      "['honggildong', 'kanggamchan', 'kimyusin', 'leesunsin']\n"
     ]
    }
   ],
   "source": [
    "names = ['HONG GIL DONG', 'HONG GIL DONG', 'KIM YU SIN', 'KIM YU SIN', 'LEE SUN SIN', 'LEE SUN SIN', 'KANG GAM CHAN', 'KANG GAM CHAN']\n",
    "\n",
    "result = sorted(set(name.replace(\" \", \"\").lower() for name in names))\n",
    "print(result)"
   ]
  },
  {
   "cell_type": "markdown",
   "id": "2d64edac",
   "metadata": {},
   "source": [
    "📌 과제 9\n",
    "다수의 (이름, 점수) 튜플 리스트를 받아, 평균 점수와 최고 점수 학생을 출력하세요.\n",
    "\n",
    "(('홍길동', 85), ('김유신', 70), ('이순신', 60), ('강 감 찬', 90))"
   ]
  },
  {
   "cell_type": "code",
   "execution_count": 74,
   "id": "e3ebcb2a",
   "metadata": {},
   "outputs": [
    {
     "name": "stdout",
     "output_type": "stream",
     "text": [
      "평균점수 : 76.25\n",
      "최고 점수 학생 : ('강감찬', 90)\n"
     ]
    }
   ],
   "source": [
    "data = (('홍길동', 85), ('김유신', 70), ('이순신', 60), ('강감찬', 90))\n",
    "# 점수 추출\n",
    "scores = [score for name, score in data]\n",
    "\n",
    "# 평균 계산\n",
    "avg = sum(scores) / len(scores)\n",
    "print(f\"평균점수 : {avg}\")\n",
    "\n",
    "# 최고점수 학생\n",
    "top_student = max(data, key=lambda x:x[1])\n",
    "print(f\"최고 점수 학생 : {top_student}\")"
   ]
  },
  {
   "cell_type": "markdown",
   "id": "c5bece47",
   "metadata": {},
   "source": [
    "💎  STEP 6: 확장 과제 (실전형)\n",
    "📌 과제 10: 데이터 전처리 → 분석까지 전 과정 함수 분리 실습\n",
    "아래의 리스트를 기반으로 다음 작업을 각각의 함수로 분리하여 구현해보세요.\n",
    "\n",
    "names = [\"홍길동\", \" 김유신 \", \"이순신\", \"강 감 찬\"]\n",
    "scores = [85, 70, 60, 90]\n",
    "subjects = [\"수학\", \"영어\", \"과학\", \"국어\"]\n",
    "\n",
    "함수 분리 목표\n",
    "clean_names() → 이름에서 공백 제거 및 정리\n",
    "\n",
    "to_dict() → 이름과 점수 딕셔너리로 변환\n",
    "\n",
    "filter_pass() → 70점 이상인 학생만 필터링\n",
    "\n",
    "report() → \"1. 홍길동 - 수학: 85점\" 형태로 출력\n"
   ]
  },
  {
   "cell_type": "code",
   "execution_count": 45,
   "id": "ac8819b5",
   "metadata": {},
   "outputs": [
    {
     "name": "stdout",
     "output_type": "stream",
     "text": [
      "공백 제거:\n",
      "['홍길동', '김유신', '이순신', '강감찬']\n",
      "\n",
      "딕셔너리:\n",
      "{'홍길동': 85, '김유신': 70, '이순신': 60, '강감찬': 90}\n",
      "\n",
      "필터:\n",
      "['홍길동: 85', '김유신: 70', '강감찬: 90']\n",
      "\n",
      "리포트:\n",
      "['1. 홍길동 - 수학: 85점 ', '2. 김유신 - 영어: 70점 ', '3. 이순신 - 과학: 60점 ', '4. 강감찬 - 국어: 90점 ']\n"
     ]
    }
   ],
   "source": [
    "names = [\"홍길동\", \" 김유신 \", \"이순신\", \"강 감 찬\"]\n",
    "scores = [85, 70, 60, 90]\n",
    "subjects = [\"수학\", \"영어\", \"과학\", \"국어\"]\n",
    "\n",
    "def clean_names(names):\n",
    "    names = [name.replace(\" \",\"\") for name in names]\n",
    "    return names\n",
    "\n",
    "def to_dict(names, scores):\n",
    "    names = clean_names(names)\n",
    "    dics = dict(zip(names, scores))\n",
    "    return dics\n",
    "\n",
    "def filter_pass(names, scores):\n",
    "    names = clean_names(names)\n",
    "    dics = dict(zip(names, scores))\n",
    "    filtered = [f\"{name}: {score}\" for name, score in dics.items() if score >= 70] \n",
    "    return filtered\n",
    "\n",
    "def report(names, scores, subjects):\n",
    "    names = clean_names(names)\n",
    "    lst = [f\"{i+1}. {name} - {subject}: {score}점 \"for i, (name, score, subject) in enumerate(zip(names, scores, subjects))]\n",
    "    return lst\n",
    "\n",
    "print(\"공백 제거:\")\n",
    "print(clean_names(names))\n",
    "\n",
    "print(\"\\n딕셔너리:\")\n",
    "print(to_dict(names, scores))\n",
    "\n",
    "print(\"\\n필터:\")\n",
    "print(filter_pass(names, scores))\n",
    "\n",
    "print(\"\\n리포트:\")\n",
    "print(report(names, scores, subjects))\n",
    "    "
   ]
  },
  {
   "cell_type": "markdown",
   "id": "6e4bfe45",
   "metadata": {},
   "source": [
    "✅ 보충 STEP 1: 조건 기반 분석 함수\n",
    "🎯 목표\n",
    "조건문 + 반복문을 조합하여 조건 필터링 함수 작성\n",
    "\n",
    "📝 실습 과제\n",
    "숫자 리스트에서 특정 범위(예: 50~80)에 해당하는 값만 반환\n",
    "\n",
    "리스트에서 가장 많이 등장하는 요소를 반환하는 함수 (빈도수 분석)\n",
    "\n",
    "학생 점수 딕셔너리를 받아 '합격/불합격' 딕셔너리 반환 (기준 70점)\n"
   ]
  },
  {
   "cell_type": "code",
   "execution_count": 83,
   "id": "098f9851",
   "metadata": {},
   "outputs": [
    {
     "name": "stdout",
     "output_type": "stream",
     "text": [
      "50~80에 해당하는 숫자 반환\n",
      "[50, 60, 67, 70, 72, 77, 80]\n",
      "\n",
      "빈도분석\n",
      "[('apple', 3)]\n",
      "\n",
      "합격/불합격\n",
      "['홍길동:85(합격)', '김유신:70(합격)', '이순신:60(불합격)', '강감찬:90(합격)', '유관순:55(불합격)', '안중근:75(합격)']\n"
     ]
    }
   ],
   "source": [
    "# 숫자 리스트 (범위 필터링용)\n",
    "numbers = [45, 67, 89, 50, 72, 80, 95, 60, 77, 85, 40, 70]\n",
    "\n",
    "# 리스트 (빈도수 분석용)\n",
    "elements = [\"apple\", \"banana\", \"apple\", \"orange\", \"banana\", \"apple\", \"grape\", \"orange\", \"banana\"]\n",
    "\n",
    "# 학생 점수 딕셔너리 (합격/불합격 분석용)\n",
    "student_scores = {\n",
    "    \"홍길동\": 85,\n",
    "    \"김유신\": 70,\n",
    "    \"이순신\": 60,\n",
    "    \"강감찬\": 90,\n",
    "    \"유관순\": 55,\n",
    "    \"안중근\": 75\n",
    "}\n",
    "\n",
    "def filter_numbers(numbers):\n",
    "    filtered_numbers = [number for number in numbers if 50 <= number <= 80]\n",
    "    filtered_numbers.sort()\n",
    "    return filtered_numbers\n",
    "\n",
    "from collections import Counter\n",
    "def most_frequent_element(elements):\n",
    "    frequency = Counter(elements)\n",
    "    most_common = frequency.most_common(1)\n",
    "    return most_common\n",
    "\n",
    "def pass_fail(student_scores):\n",
    "    result = [f\"{name}:{score}({'합격' if score >= 70 else '불합격'})\" for name, score in student_scores.items()]\n",
    "    return result\n",
    "\n",
    "print(\"50~80에 해당하는 숫자 반환\")\n",
    "print(filter_numbers(numbers)) \n",
    "\n",
    "print(\"\\n빈도분석\")\n",
    "print(most_frequent_element(elements))\n",
    "\n",
    "print(\"\\n합격/불합격\")\n",
    "print(pass_fail(student_scores))\n",
    "    "
   ]
  },
  {
   "cell_type": "markdown",
   "id": "ba5cf2c4",
   "metadata": {},
   "source": [
    "✅ 보충 STEP 2: 실용 데이터 처리 함수 (ML 친화적)\n",
    "🎯 목표\n",
    "머신러닝에서 자주 쓰는 데이터 전처리용 함수 구조 익히기\n",
    "\n",
    "📝 실습 과제\n",
    "결측값(NaN 또는 None)이 있는 데이터를 필터링하는 함수\n",
    "\n",
    "문자열 리스트를 숫자로 바꾸는 매핑 함수 (['남', '여'] → [0,1])\n",
    "\n",
    "여러 개의 숫자 리스트를 받아 정규화된 리스트(0~1)로 반환\n"
   ]
  },
  {
   "cell_type": "code",
   "execution_count": 46,
   "id": "38f9243c",
   "metadata": {},
   "outputs": [
    {
     "name": "stdout",
     "output_type": "stream",
     "text": [
      "**DataFrame 예제**\n",
      "     이름    성별    나이\n",
      "0   홍길동     남  25.0\n",
      "1   김철수     여   NaN\n",
      "2   이영희     여  30.0\n",
      "3  None     남  22.0\n",
      "4   박지민  None  28.0\n",
      "\n",
      "**데이터 시각화 예제**\n"
     ]
    },
    {
     "data": {
      "image/png": "[encoded data removed]",
      "text/plain": [
       "<Figure size 640x480 with 1 Axes>"
      ]
     },
     "metadata": {},
     "output_type": "display_data"
    }
   ],
   "source": [
    "import pandas as pd\n",
    "import matplotlib.pyplot as plt\n",
    "# 예시 데이터 생성\n",
    "data = {\n",
    "    '이름': ['홍길동', '김철수', '이영희', None, '박지민'],\n",
    "    '성별': ['남', '여', '여', '남', None],\n",
    "    '나이': [25, None, 30, 22, 28]\n",
    "}\n",
    "\n",
    "df = pd.DataFrame(data)\n",
    "print(\"**DataFrame 예제**\")\n",
    "print(df)\n",
    "\n",
    "print(\"\\n**데이터 시각화 예제**\")\n",
    "df['나이'].plot(kind='line')\n",
    "plt.show()"
   ]
  },
  {
   "cell_type": "code",
   "execution_count": 47,
   "id": "42938337",
   "metadata": {},
   "outputs": [
    {
     "name": "stdout",
     "output_type": "stream",
     "text": [
      "[0, 1, 1, 0]\n"
     ]
    }
   ],
   "source": [
    "# 문자열 리스트를 숫자로 변환하는 함수\n",
    "\n",
    "gender_list = [\"남\", \"여\", \"여\", \"남\"]\n",
    "\n",
    "def map_gender_to_numeric(gender_list):\n",
    "    mapping = {\"남\": 0, \"여\": 1}\n",
    "    return [mapping[gender] for gender in gender_list]\n",
    "\n",
    "print(map_gender_to_numeric(gender_list))"
   ]
  }
 ],
 "metadata": {
  "kernelspec": {
   "display_name": "Python 3",
   "language": "python",
   "name": "python3"
  },
  "language_info": {
   "codemirror_mode": {
    "name": "ipython",
    "version": 3
   },
   "file_extension": ".py",
   "mimetype": "text/x-python",
   "name": "python",
   "nbconvert_exporter": "python",
   "pygments_lexer": "ipython3",
   "version": "3.9.13"
  }
 },
 "nbformat": 4,
 "nbformat_minor": 5
}
