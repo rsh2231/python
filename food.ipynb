{
 "cells": [
  {
   "cell_type": "code",
   "execution_count": null,
   "id": "2b0db8b3",
   "metadata": {},
   "outputs": [
    {
     "name": "stderr",
     "output_type": "stream",
     "text": [
      "C:\\Users\\rsh22\\AppData\\Local\\Temp\\ipykernel_8888\\940045486.py:8: DeprecationWarning:\n",
      "\n",
      "*scatter_mapbox* is deprecated! Use *scatter_map* instead. Learn more at: https://plotly.com/python/mapbox-to-maplibre/\n",
      "\n"
     ]
    },
    {
     "data": {
      "application/vnd.plotly.v1+json": {
       "config": {
        "plotlyServerURL": "https://plot.ly"
       },
       "data": [
        {
         "hovertemplate": "<b>%{hovertext}</b><br><br>구군=강서구<br>위도=%{lat}<br>경도=%{lon}<extra></extra>",
         "hovertext": [
          "만드리곤드레밥",
          "민물가든",
          "명지첫집",
          "오리한상 명지본점",
          "칸웨이",
          "방코",
          "1966정원 천성항점",
          "브리타니",
          "토북베이커리",
          "만호갈미샤브샤브",
          "앙탄"
         ],
         "lat": {
          "bdata": "J94BnrSWQUC4rwPnjJRBQB8vpMNDjEFAA2A8g4aMQUCfyJOka4pBQIL/rWTHjkFA1ZelnZqDQUATRUjdzoRBQKezk8FRjkFAl/+QfvuMQUAe3nNgOZpBQA==",
          "dtype": "f8"
         },
         "legendgroup": "강서구",
         "lon": {
          "bdata": "aCJseHoeYEBUjPM3oRxgQKjjMQOVHWBAGAltOZcdYEAe+YOB5xxgQBZNZyeDHWBAY5eo3hoaYEDJPPIHAxpgQGUZ4lgXHGBA+SzPg7sdYEAuHAjJAh1gQA==",
          "dtype": "f8"
         },
         "marker": {
          "color": "#636efa"
         },
         "mode": "markers",
         "name": "강서구",
         "showlegend": true,
         "subplot": "mapbox",
         "type": "scattermapbox"
        },
        {
         "hovertemplate": "<b>%{hovertext}</b><br><br>구군=연제구<br>위도=%{lat}<br>경도=%{lon}<extra></extra>",
         "hovertext": [
          "가야할매밀면",
          "국제밀면본점",
          "연산낙지해물탕",
          "옻바다전복삼계탕",
          "동원숯불갈비",
          "수복돼지국밥",
          "북경",
          "팔미초밥",
          "글라스앤보틀",
          "델리봉",
          "디저트시네마",
          "보느파티쓰리",
          "고등어다찌  연산본점",
          "보느파티쓰 리"
         ],
         "lat": {
          "bdata": "zaylgLSXQUBpdAexM5lBQM7EdCFWl0FAiEuOO6WXQUA1mIbhI5hBQMcpOpLLl0FAM/59xoWXQUDGavP/qpdBQG76sx8pmEFAqkiFsYWYQUB7FRkdkJZBQOnxe5v+mEFAgUI9fQSYQUB4flGC/phBQA==",
          "dtype": "f8"
         },
         "legendgroup": "연제구",
         "lon": {
          "bdata": "WHOAYI4iYEDMf0i/fSJgQDrpfeNrI2BANLqD2JkiYEDOGVHaGyNgQLhAguLHImBAv/G1Z5YiYEACmggbniJgQMKGp1fKImBA1IIXfQUjYEBJ9DKK5SJgQJ2AJsKGImBAVmXfFcEiYEB4flGC/phBQA==",
          "dtype": "f8"
         },
         "marker": {
          "color": "#EF553B"
         },
         "mode": "markers",
         "name": "연제구",
         "showlegend": true,
         "subplot": "mapbox",
         "type": "scattermapbox"
        },
        {
         "hovertemplate": "<b>%{hovertext}</b><br><br>구군=중구<br>위도=%{lat}<br>경도=%{lon}<extra></extra>",
         "hovertext": [
          "할매가야밀면",
          "거인통닭",
          "부산꼼장어맛집 성일집",
          "원산면옥",
          "부산족발",
          "남포삼계탕",
          "부광돼지국밥전문점",
          "이가네떡볶이",
          "할매집회국수",
          "돌솥밥집",
          "1969부원동칼국수 부산본점",
          "동삼정",
          "화국반점",
          "동광동 석기시대 본점",
          "동화반점",
          "유원",
          "본참치",
          "어가초밥",
          "삼송초밥 부산남포본점",
          "명송초밥",
          "중앙모밀",
          "고등어연구소 본점",
          null,
          "이재모피자",
          "스톤스트리트",
          "바우노바",
          "그리다부부",
          "연경재",
          "김해식당",
          "물꽁식당",
          "부산명물횟집",
          "원조 바다집",
          "물레방아 즉석구이",
          "이재모피자",
          "물꽁식당",
          "백구당",
          "부산명물횟집",
          "비엔씨",
          "새진주식당",
          "서울깍두기",
          "신창국밥"
         ],
         "lat": {
          "bdata": "MjuL3qmMQUBe9BWkGY1BQKEvvf25jEFAYYvdPquMQUCw/s9hvoxBQOc5It+ljEFA8WYN3leNQUB3Sgfr/4xBQNSa5h2njEFARDF5A8yMQUCcMjffiIxBQP4mFCLgjEFA8G36sx+NQUBIp658lo1BQDYf14aKjUFAxCXHndKNQUDoMF9egI1BQE9bI4JxjEFAuhCrP8KMQUBWYTPABY1BQGwhyEEJjUFAfAxWnGqNQUBxVdl3RZRBQDhlbr4RjUFA4IEBhA+NQUCT/IhfsYxBQDApPj4hjUFAqRPQRNiMQUDNAYI5eoxBQI0mF2NgjUFAFZFhFW+MQUDRWzy854xBQD7L8+DujEFA93XgnBGNQUAKSPsfYI1BQL37471qjUFAvHmqQ26MQUDpYP2fw4xBQE28AzxpjUFATbwDPGmNQUB9JCU9DI1BQA==",
          "dtype": "f8"
         },
         "legendgroup": "중구",
         "lon": {
          "bdata": "Zd8Vwf8gYECwOJz51SBgQKp9Oh4zIWBATtGRXP4gYEB+GCE82iBgQFwbKsb5IGBAuiwmNh8hYEBXIeUn1SBgQDvkZrgBIWBA9x4uOe4gYEAicY+lDyFgQKDDfHkBIWBAvjCZKhghYECSs7CnHSFgQOviNhrAIGBASkG3lzQhYEBsW5TZICFgQBCv6xfsIGBArW71nPQgYECC597DJSFgQJAxdy0hIWBAmfViKCchYEBwQiECDiJgQD7o2az6IGBAy74rgv8gYECJDKt4IyFgQKlqgqj7IGBAtyizQSYhYED0GrtE9SBgQLhAguLHIGBAVHQkl/8gYEDQRNjw9CBgQHkj88gfIWBALH3ogvogYECm1ZC4xyBgQKAaL90kIWBAhBJm2v4gYEA9Sbpm8iBgQHS1FfvLIGBAdLUV+8sgYEDejnBa8CBgQA==",
          "dtype": "f8"
         },
         "marker": {
          "color": "#00cc96"
         },
         "mode": "markers",
         "name": "중구",
         "showlegend": true,
         "subplot": "mapbox",
         "type": "scattermapbox"
        },
        {
         "hovertemplate": "<b>%{hovertext}</b><br><br>구군=금정구<br>위도=%{lat}<br>경도=%{lon}<extra></extra>",
         "hovertext": [
          "배비장보쌈",
          "구포촌국수",
          "면채움",
          "스시심 타카이",
          "톤쇼우",
          "부산대 포맨티코 본점",
          "모모스커피",
          "큐제",
          "이흥용과자점 부산대직영점",
          "보리종파티세리 본점",
          "카페호밀",
          "마파람해물찜해물탕 구서본점",
          "카파도키아",
          "구포촌국수",
          "모모스커피"
         ],
         "lat": {
          "bdata": "LeqT3GGfQUAydy0hH6JBQGzPLAlQn0FAp5IBoIqdQUA8vyhBf51BQHC2uTE9nUFAXFX2XRGcQUBgArfu5qFBQERMiSR6nUFA8KXwoNmdQUAoJ9pVSJ1BQIm0jT9Rn0FA4BKAf0qhQUBD4h5LH6JBQOwVFtwPnEFA",
          "dtype": "f8"
         },
         "legendgroup": "금정구",
         "lon": {
          "bdata": "8nub/uwiYEDByqFFtiJgQNQrZRniImBAEvdY+tAiYEAWwf9WsiJgQGDI6lbPImBAluzYCMQiYECUTbnCuyJgQAt72uGvImBARfC/lewiYEA/qfbpeCJgQHv3x3vVImBAHhZqTfMiYECvX7AbtiJgQLnCu1zEImBA",
          "dtype": "f8"
         },
         "marker": {
          "color": "#ab63fa"
         },
         "mode": "markers",
         "name": "금정구",
         "showlegend": true,
         "subplot": "mapbox",
         "type": "scattermapbox"
        },
        {
         "hovertemplate": "<b>%{hovertext}</b><br><br>구군=북구<br>위도=%{lat}<br>경도=%{lon}<extra></extra>",
         "hovertext": [
          "장수장 꼬리곰탕",
          "식당 3선 덕천점",
          "함경면옥 덕천점",
          "웅천집",
          "평양집",
          "북경의 자전거",
          "금용만두",
          "순사이쿠보",
          "남촌",
          "금용"
         ],
         "lat": {
          "bdata": "t+7mqQ6ZQUA5fxMKEZxBQDP5Zpsbm0FAknTN5JuhQUCrevmdJptBQGnEzD6PnUFA38SQnEyaQUAzF7g81p5BQML6P4f5mkFA38SQnEyaQUA=",
          "dtype": "f8"
         },
         "legendgroup": "북구",
         "lon": {
          "bdata": "Rl9BmrEfYECVDtb/OSBgQDD186YiIGBAH/RsVn0gYEDzqzlAMCBgQLqgvmVOIGBAZyeDo+QfYEBd3EYDeCBgQCntDb4wIGBAZyeDo+QfYEA=",
          "dtype": "f8"
         },
         "marker": {
          "color": "#FFA15A"
         },
         "mode": "markers",
         "name": "북구",
         "showlegend": true,
         "subplot": "mapbox",
         "type": "scattermapbox"
        },
        {
         "hovertemplate": "<b>%{hovertext}</b><br><br>구군=해운대구<br>위도=%{lat}<br>경도=%{lon}<extra></extra>",
         "hovertext": [
          "금수복국",
          "다온 한정식",
          "예이제",
          "원조석대추어탕",
          "할매복국",
          "평안도족발",
          "한우숯불양곱창",
          "개미집신도시점",
          "부다면옥",
          "소공간",
          "못난이식당 해운대점",
          "수블",
          "부우사안",
          "문스시",
          "젠스시",
          "영변횟집",
          "나가하마만게츠",
          "스시미르네 본점",
          "타이가 텐푸라",
          "김정연분식 면옥향천",
          "모리",
          "쇼진",
          "우봉 샤브 청사포점",
          "하레마",
          "스시시안",
          "쥬가",
          "쿠지라멘",
          "어밤부",
          "달타이",
          "르꽁비브",
          "버거인뉴욕",
          "쉐프리",
          "랩24 바이 쿠무다",
          "르도헤",
          "팔레트",
          "올드머그",
          "비비비당",
          "동백섬횟집",
          "선창횟집",
          "거대갈비",
          "육화목",
          "우봉",
          "초필살돼지구이 해운대 본점",
          "30년전통가마솥석쇠돼지갈비",
          "동백섬횟집",
          "새총횟집",
          "초필살돼지구이",
          "거대숯불구이",
          "부다면옥",
          "아저씨대구탕",
          "영남돼지",
          "부우사안",
          "모즈",
          "쇼진",
          "스시시안",
          "스시이루카",
          "라꽁띠",
          "쉐프리",
          "달타이",
          "거북선횟집",
          "규우정",
          "이레옥",
          "남풍",
          "랩24바이쿠무다",
          "르도헤",
          "모리",
          "사까에",
          "셔블",
          "아오모리",
          "율링",
          "차오란",
          "팔레드신",
          "하레마",
          "금수복국",
          "박옥희할매집원조복국",
          "신흥관",
          "해운대소문난암소갈비집",
          "머그디저트랩"
         ],
         "lat": {
          "bdata": "1PGYgcqUQUBq39xfPZRBQCqRRC+jlEFAarx0kxicQUDKN9vcmJRBQBhgH526lEFAlMDmHDyVQUC+TBQhdZVBQGSyuP/IlEFAjQsHQrKUQUBqpnud1JNBQBzqd2FrlEFAVAH3PH+UQUBEF9S3zJVBQIOHad/clUFA845TdCSXQUD+SBEZVpVBQOAQqtTslUFAcceb/BaVQUDiIYyfxpVBQHxgx3+BlEFAnBpoPueUQUBihVs+kpRBQHNmu0IflEFALoz0onaVQUCLqIk+H5VBQKG/0CNGlUFAoFT7dDyWQUA0ngjiPJRBQK7X9KCglkFA/3ivWpmUQUC8eapDbpRBQJcd4h+2lkFA5BQdyeWTQUANMzSeCJRBQGDI6lbPlUFAqfbpeMyUQUCcMjffiJRBQAiT4uMTlEFAm1Wfq62UQUAZxXJLq5VBQF2mJsEblEFAHQJHAg2UQUCvJeSDnpVBQCUC1T+IlEFAgnUcP1SaQUAdAkcCDZRBQO571F+vlEFAZLK4/8iUQUB+VMN+T5RBQFad1QJ7lEFAVAH3PH+UQUD5FADjGZRBQJwaaD7nlEFAqd2vAnyVQUD5FADjGZRBQFU01v7OlEFAvHmqQ26UQUCrzmqBPZRBQIulSL4SlEFAnPnVHCCUQUAlXMgjuJNBQCMVxhaClEFAlx3iH7aWQUDkFB3J5ZNBQHxgx3+BlEFAIxXGFoKUQUClL4Sc95NBQCzwFd16lUFA8rT8wFWUQUCN7iB2ppRBQPwdigJ9lEFAc2a7Qh+UQUCwG7YtypRBQPK0/MBVlEFA1A5/TdaUQUACSG3i5JRBQPkUAOMZlEFA",
          "dtype": "f8"
         },
         "legendgroup": "해운대구",
         "lon": {
          "bdata": "JQaBlUMlYEAyj/zBwCRgQJPGaB1VJWBAa4Ko+wAkYECE04IXfSVgQCOhLedSJWBAfA+XHHclYECWPnRBfSVgQN481SE3JWBAnIpUGFslYEC0yHa+nyRgQKYKRiV1JWBAbef7qfEkYEBfB84ZUSVgQMbctYR8JWBAEywOZ34mYECzzY3pCSVgQD8djxmoJWBA93XgnBElYEB2bATidSRgQF6FlJ9UJWBAIo51cRslYECFCDiEKiZgQNF5jV2iJGBA+U7MejEkYEASpb3BFyVgQALZ690fJWBAV0PiHksmYECAmlq21iVgQM7fhEIEJGBATn/2I0UlYEAQr+sX7CRgQBO4dTdPJmBA/7J78rAkYEAychb2tCVgQHiXi/hOJmBAdY4B2eslYEANq3gj8yRgQAqi7gOQJWBAFVeVfVclYEC9GMqJdiVgQJLLf0i/JGBApBmLprMkYEBDyk+qfSVgQPs/h/nyJGBAMiB7vfsjYECkGYumsyRgQCfChqdXJWBA3jzVITclYEBmoDL+fSVgQBVvZB75JGBAbef7qfEkYEAk0csoliRgQCKOdXEbJWBAOlj/5zAkYEAk0csoliRgQCPzyB8MJmBAEK/rF+wkYED35GGh1iVgQIaPiCmRJWBAtmeWBKglYEDSGK2jqiRgQFGgT+RJJWBAE7h1N08mYED/snvysCRgQF6FlJ9UJWBAUaBP5EklYEDUSEvl7SRgQJ7Swfo/JGBAU5YhjnUlYEDV7IFWYCVgQOPfZ1w4JWBA0XmNXaIkYECcUIiAQyVgQFOWIY51JWBAARO4dTclYEBTP28qUiVgQCTRyyiWJGBA",
          "dtype": "f8"
         },
         "marker": {
          "color": "#19d3f3"
         },
         "mode": "markers",
         "name": "해운대구",
         "showlegend": true,
         "subplot": "mapbox",
         "type": "scattermapbox"
        },
        {
         "hovertemplate": "<b>%{hovertext}</b><br><br>구군=사상구<br>위도=%{lat}<br>경도=%{lon}<extra></extra>",
         "hovertext": [
          "할매재첩국집",
          "합천일류돼지국밥",
          "포항가자미물회국수말이전문점",
          "괘법쭈꾸미전문점",
          "대왕불맛",
          "전골그집 주례본점",
          "함양본가어탕국수",
          "해물왕창칼국수",
          "하동재첩국",
          "이가네칼국수",
          "맹여사육전육회",
          "삼락하동재첩국",
          "파니니브런치",
          "오대양횟집",
          "곰보식당",
          "할매재첩국"
         ],
         "lat": {
          "bdata": "06BoHsCYQUCbcoV3uZRBQF1txf6ylUFAIM8u3/qUQUA7wmnBi5ZBQOlILv8hk0FA2CrB4nCUQUB1ApoIG5ZBQH/eVKTCmEFAzTrj++KUQUDuPzIdOpVBQL3g05y8mEFAHM78ag6QQUB07na9NJNBQJLqO78omUFA06BoHsCYQUA=",
          "dtype": "f8"
         },
         "legendgroup": "사상구",
         "lon": {
          "bdata": "IzKs4o0fYECfq63YXx9gQHpwd9ZuH2BA/z7jwoEfYED0bFZ9rh9gQDl/EwoRIGBAjBU1mIYfYECdY0D2eh9gQNbiUwCMH2BAqFKzB1ofYEC28/3UeB9gQI82jliLH2BAN+DzwwgfYECPwvUoXCBgQMi1oWKcH2BAIzKs4o0fYEA=",
          "dtype": "f8"
         },
         "marker": {
          "color": "#FF6692"
         },
         "mode": "markers",
         "name": "사상구",
         "showlegend": true,
         "subplot": "mapbox",
         "type": "scattermapbox"
        },
        {
         "hovertemplate": "<b>%{hovertext}</b><br><br>구군=서구<br>위도=%{lat}<br>경도=%{lon}<extra></extra>",
         "hovertext": [
          "신창국밥",
          "몽실종가돼지국밥 감천문화마을 본점",
          "편의방",
          "신흥반점",
          "원조18번완당",
          "식당 토성동",
          "청죽",
          "디에이블 부산송도점",
          "옛날오막집",
          "옛날오막집"
         ],
         "lat": {
          "bdata": "t5c0RuuMQUBwsaIG04xBQMGopE5Aj0FAjgbwFkiMQUCL4eoAiI1BQJZBtcGJjEFAX16AfXSOQUAYtJCA0YlBQPyNdtzwjUFAbmk1JO6NQUA=",
          "dtype": "f8"
         },
         "legendgroup": "서구",
         "lon": {
          "bdata": "QlvOpbggYECmRBK9jCBgQOxRuB6FIGBABJDaxMkgYECBJsKGpyBgQN17uOS4IGBAz2bV52ogYEALJCh+jCBgQBgmUwWjIGBAZvfkYaEgYEA=",
          "dtype": "f8"
         },
         "marker": {
          "color": "#B6E880"
         },
         "mode": "markers",
         "name": "서구",
         "showlegend": true,
         "subplot": "mapbox",
         "type": "scattermapbox"
        },
        {
         "hovertemplate": "<b>%{hovertext}</b><br><br>구군=남구<br>위도=%{lat}<br>경도=%{lon}<extra></extra>",
         "hovertext": [
          "쌍둥이돼지국밥 본점",
          "곤국",
          "해남식당",
          "명품외식 육면정",
          "부산약콩밀면 이기대본점",
          "대연밀면",
          "합천국밥집",
          "알천순대곱창전골전문점",
          "백가백반",
          "태화반점",
          "교토돈부리 본점",
          "이층집 564-9",
          "다이닝센 부산본점",
          "팔레트",
          "용호동할매팥빙수단팥죽 본점",
          "bread365",
          "초원복국",
          "김유순대구뽈찜",
          "광명집",
          "궁중해물탕 조씨집 대연본점",
          "오륙도 가원",
          "호포갈비 문현점",
          "합천국밥집",
          "쌍둥이돼지국밥",
          "라이옥",
          "오륙도가원",
          "팔레트",
          "초원복국",
          "브레드365"
         ],
         "lat": {
          "bdata": "Bkzg1t2QQUBCz2bV55JBQBMteTwtkUFAMJ5BQ/+SQUAg8MAAwo9BQManABjPkEFAKPBOPj2OQUCsj4e+u5FBQBNE3QcgkUFA220XmuuQQUCXyXA8n5FBQFSp2QOtkEFAJ71vfO2PQUCXdJSD2ZBBQKlKW1zjj0FAnil0XmORQUDiytk7o5FBQEccsoF0kUFAbCQJwhWQQUCoUrMHWpFBQEOM17yqjUFAIqtbPSeRQUAo8E4+PY5BQAZM4NbdkEFAXW3F/rKRQUBs66f/rI1BQJd0lIPZkEFAWi+GcqKRQUAzp8tiYpFBQA==",
          "dtype": "f8"
         },
         "legendgroup": "남구",
         "lon": {
          "bdata": "dy0hH/QiYECjO4idKSJgQCjVPh2PI2BAN+DzwwgjYED7dDxmoCNgQFKbOLnfImBAw/UoXI8jYECFfNCzWSNgQJgXYB+dI2BA5ujxe5sjYEDF5uPaUCNgQEWeJF0zI2BAlPYGX5gjYEBXIeUn1SNgQIgRwqONI2BAPdUhN8MiYEA4Sl6dYyNgQMLdWbvtImBAAJF++zojYEAdd0oH6yJgQFuU2SCTI2BAuiwmNh8iYEDD9ShcjyNgQHctIR/0ImBAXoWUn1QjYECkwthCkCNgQFch5SfVI2BAr5RliGMjYEA91SE3wyJgQA==",
          "dtype": "f8"
         },
         "marker": {
          "color": "#FF97FF"
         },
         "mode": "markers",
         "name": "남구",
         "showlegend": true,
         "subplot": "mapbox",
         "type": "scattermapbox"
        },
        {
         "hovertemplate": "<b>%{hovertext}</b><br><br>구군=수영구<br>위도=%{lat}<br>경도=%{lon}<extra></extra>",
         "hovertext": [
          "베지나랑",
          "다리집",
          "광안리 언양불고기 부산집",
          "할매재첩국부산본점",
          "우성삼계탕",
          "골목포차",
          "남천면가",
          "닭발의 지존",
          "백일평냉",
          "자매국밥",
          "청산1954",
          "금랑횟집 광안리본점",
          "난파센",
          "톤쇼우 광안점",
          "고옥",
          "노는바다",
          "동경밥상",
          "킹콩스시",
          "다이도코로 광안리본점",
          "샤브남바완",
          "제로베이스",
          "야키토리 백탄",
          "야키토리 해공",
          "으뜸이로리바타",
          "조이풀조이풀",
          "양귀빈식당 수영점",
          "로얄경양식&스테이크 광안점",
          "GAB148 Steak & Pasta",
          "611WoodFire",
          "뉼리 광안리점",
          "더스모코",
          "램지",
          "아웃트로바이비토",
          "아펙트",
          "홍옥당",
          "무슈뱅상",
          "데일리럭키",
          "국이네낙지볶음",
          "광안리신라횟집",
          "무궁화",
          "까치횟집",
          "우리포차",
          "우토피아",
          "고기형",
          "삼오불고기",
          "언양불고기부산집",
          "은해갈치",
          "동경밥상",
          "야키토리해공",
          "제로베이스",
          "리오네",
          "알로이타이레스토랑",
          "톤쇼우",
          "금랑횟집",
          "뉼리",
          "칠성횟집",
          "마이클어반팜테이블",
          "무슈뱅상",
          "옵스"
         ],
         "lat": {
          "bdata": "pDUGnRCUQUAYsU8AxZJBQAmKH2PukkFAPQrXo3CTQUDvG197ZpVBQNHoDmJnlEFA7dXHQ9+RQUBZUu4+x5VBQPLPDOIDk0FAokEKnkKUQUDrjVph+pJBQMtneR7ck0FA7YFWYMiSQUDVBFH3AZRBQByZR/5gkkFAe0s5X+yRQUC5bd+j/pJBQK8l5IOelUFA+8vuycOSQUDxSLw8nZNBQBwIyQImlEFAecxAZfyTQUDBjv8CQZRBQIS6SKEskkFAAdwsXiyUQUBtyhXe5ZRBQCZWRiOfk0FAwvuqXKiSQUDXGHRC6JJBQFQ3F3/bk0FARzgteNGTQUDSx3xAoJNBQCqpE9BElEFAiL1QwHaUQUBzgctjzZJBQAt+G2K8kkFAV3xD4bOTQUAXgbG+gZVBQF5J8lzfk0FAXoB9dOqSQUBKJTyh15NBQK3ddqG5lEFAAKlNnNyTQUCN1eb/VZVBQA69xcN7lEFAdAzIXu+SQUB8J2a9GJRBQLlt36P+kkFAMgIqHEGUQUAcCMkCJpRBQL2L9+P2lUFAFHmSdM2UQUCk5NU5BpRBQCR/MPDck0FAVDcXf9uTQUDsihnh7ZNBQI20VN6OlkFAC34bYrySQUAcJhqk4JFBQA==",
          "dtype": "f8"
         },
         "legendgroup": "수영구",
         "lon": {
          "bdata": "J6Wg20skYECPNo5YiyNgQNF5jV2iI2BAEr2MYrkjYECfWRKgpiNgQGiWBKipI2BAI9v5fmojYEDRP8HFiiNgQK8I/reSI2BA5e0IpwUkYECP/MHAcyNgQNV46SYxJGBAMbYQ5KAjYEAZkL3e/SNgQATidf2CI2BAsVBrmncjYEDKVMGopCNgQKuVCb/UI2BARiV1ApojYEBJLv8h/SNgQPmDgefeI2BA2c73U+MjYEBL6gQ0ESRgQHgLJCh+I2BAVTAqqRMkYEDByqFFtiNgQK4NFeP8I2BArcCQ1a0jYECRm+EGfCNgQBDM0eP3I2BAB0KygAkkYEAFo5I6ASRgQGUZ4lgXJGBAnuqQm+EjYECIS447pSNgQJgXYB+dI2BAFoczv5ojYEAvNNdppCNgQHnMQGX8I2BA0SLb+X4jYEDM0eP3NiRgQHEDPj+MI2BAIv32deAjYECCqPsApCNgQO/Jw0KtI2BANlmjHqIjYEAyPWGJByRgQMpUwaikI2BAXFX2XREkYED5g4Hn3iNgQMdGIF7XI2BAbFuU2SAkYEDFG5lH/iNgQHCZ02UxJGBAEMzR4/cjYEAiGt1B7CNgQMJM27+yI2BAmBdgH50jYEAUrkfheiNgQA==",
          "dtype": "f8"
         },
         "marker": {
          "color": "#FECB52"
         },
         "mode": "markers",
         "name": "수영구",
         "showlegend": true,
         "subplot": "mapbox",
         "type": "scattermapbox"
        },
        {
         "hovertemplate": "<b>%{hovertext}</b><br><br>구군=동구<br>위도=%{lat}<br>경도=%{lon}<extra></extra>",
         "hovertext": [
          "석화한정식",
          "60년 전통 할매국밥",
          "범일빈대떡",
          "평산옥",
          "대수정",
          "동촌황정순수육전골",
          "소우닭계",
          "양지추어탕",
          "초량통닭",
          "우리돼지국밥",
          "신발원",
          "홍성방 본점",
          "산동완탕교자관",
          "백산키친",
          "다께",
          "고민끝에여기",
          "명란브랜드연구소",
          "초량 1941",
          "초량온당",
          "오륙도낙지 범일본점",
          "88돼지갈비",
          "밀양갈비",
          "은하갈비",
          "산동완탕교자관",
          "60년전통할매국밥",
          "신발원",
          "평산옥"
         ],
         "lat": {
          "bdata": "yy2thsSRQUDcErngDJJBQDunWaDdkUFA4xjJHqGOQUDO34RCBJJBQJIFTODWkUFARDS6g9iRQUBfQC/cuZBBQIquCz84j0FA3pOHhVqPQUCNCwdCso5BQCCWzRySjkFAokRLHk+PQUCvfJbnwZFBQO7PRUPGkUFAjSlY42yOQUBJLv8h/Y5BQEHUfQBSj0FAXHNH/8uPQUB9XYb/dJFBQPBpTl5kkEFALCtNSkGPQUAX8DLDRo9BQKJESx5Pj0FA3BK54AySQUB7oBUYso5BQEIhAg6hjkFA",
          "dtype": "f8"
         },
         "legendgroup": "동구",
         "lon": {
          "bdata": "Yr68APshYEAP1v85zCFgQKn26XjMIWBA0NVW7C8hYEDsEtVbAyJgQEkRGVbxIWBAS+oENBEiYED/If32dSFgQL6kMVpHIWBAx0s3iUEhYED4a7JGPSFgQMcuUb01IWBAL4Zyol0hYEDMXUvIByJgQPWc9L7xIWBArP9zmC8hYED8NVmjHiFgQCU7NgLxIGBAw2SqYFQhYEDWc9L7xiFgQGUBE7h1IWBAg8DKoUUhYEAH0zB8RCFgQC+GcqJdIWBAD9b/OcwhYEDnAMEcPSFgQNDVVuwvIWBA",
          "dtype": "f8"
         },
         "marker": {
          "color": "#636efa"
         },
         "mode": "markers",
         "name": "동구",
         "showlegend": true,
         "subplot": "mapbox",
         "type": "scattermapbox"
        },
        {
         "hovertemplate": "<b>%{hovertext}</b><br><br>구군=동래구<br>위도=%{lat}<br>경도=%{lon}<extra></extra>",
         "hovertext": [
          "내당",
          "봉식당",
          "함경면옥",
          "금강만두",
          "먹음직 온천천점",
          "세연정",
          "조방낙지마당",
          "초록담미역국",
          "동래할매파전",
          "박해윤통영해물밥상",
          "원조꼬리곰집",
          "몽뜰",
          "조광심민속왕순대",
          "본 고갈비",
          "배종관동래삼계탕",
          "신가네 호떡 김밥 떡볶이",
          "미미루",
          "타이빈",
          "밀보스79",
          "공담 파스타",
          "빌라빌레쿨라",
          "칙투칙",
          "프랑스 과자점  브리앙",
          "소문난원조조방낙지본점",
          "미미루",
          "동래할매파전",
          "배종관동래삼계탕",
          "레망파티쓰리",
          "브리앙"
         ],
         "lat": {
          "bdata": "+pl63SKcQUBL6ZleYpxBQCoCnN7Fm0FAEVfO3hmZQUAiT5KumZhBQPyMCwdCmkFAhNOCF32ZQUC/DTFe85hBQCNKe4MvmkFAWW3+X3WYQUC8WBgip5tBQPuQt1z9mkFA4X8r2bGZQUAZxXJLq5lBQKeWrfVFmkFAeVc9YB6aQUAG9wMeGJxBQNwqiIGum0FAJ8KGp1eaQUDxSLw8nZtBQNkngGJkmUFAlUc3wqKYQUCM2CeAYpxBQJLn+j4cmkFAiNUfYRicQUCOzCN/MJpBQKeWrfVFmkFAD0jCvp2YQUCM2CeAYpxBQA==",
          "dtype": "f8"
         },
         "legendgroup": "동래구",
         "lon": {
          "bdata": "+3Q8ZqAiYECoHf6arCJgQDI4Sl6dImBAwt1Zu+0hYEA+eVioNSNgQHwPlxx3ImBAl8XE5uMhYED2Yign2iFgQKH4MeauImBAWDm0yHYjYECPU3QklyJgQFw9J71vImBATihEwCEjYEA/kSdJ1yJgQMHKoUW2ImBAO1PovMYiYEAK3LqbpyJgQGN/2T15ImBAu9Bcp5EiYEAiiV5GsSJgQMpPqn06ImBAznADPj8jYEAfaAWGrCJgQF/v/nivImBAgSbChqciYEAprir7riJgQMHKoUW2ImBAaK7TSEsjYEAfaAWGrCJgQA==",
          "dtype": "f8"
         },
         "marker": {
          "color": "#EF553B"
         },
         "mode": "markers",
         "name": "동래구",
         "showlegend": true,
         "subplot": "mapbox",
         "type": "scattermapbox"
        },
        {
         "hovertemplate": "<b>%{hovertext}</b><br><br>구군=영도구<br>위도=%{lat}<br>경도=%{lon}<extra></extra>",
         "hovertext": [
          "왔다식당",
          "석화정",
          "삼진어묵 본점",
          "도날드",
          "함흥보쌈사계절냉면",
          "재기돼지국밥",
          "삼형제오리 부산1호점",
          "영도우",
          "그라치에",
          "에테르",
          "피아크 카페&베이커리",
          "부흥식당",
          "청해수산",
          "제주복국",
          "목장원",
          "목장원"
         ],
         "lat": {
          "bdata": "xlIkXwmMQUCgbMoV3olBQFWIR+Lli0FAzEBl/PuKQUBlqmBUUotBQMhe7/54i0FAZED2eveLQUCBIatbPYtBQAd40sJli0FAJjj1geSJQUBlGeJYF4tBQMxAZfz7ikFAG9XpQNaLQUDFVWXfFYlBQKneGtgqiUFA8IrgfyuJQUA=",
          "dtype": "f8"
         },
         "legendgroup": "영도구",
         "lon": {
          "bdata": "JuSDns0hYED1hCUeUCJgQBFTIoleIWBAn6ut2F8hYEChEAGHUCFgQO5Cc51GIWBAYWwhyEEhYEDEfHkB9iFgQKvsuyL4IWBAT5KumXwhYEBYObTIdiJgQNjTDn9NIWBAE/JBz2YhYECMSuoENCJgQCeDo+TVIWBAJ4Oj5NUhYEA=",
          "dtype": "f8"
         },
         "marker": {
          "color": "#00cc96"
         },
         "mode": "markers",
         "name": "영도구",
         "showlegend": true,
         "subplot": "mapbox",
         "type": "scattermapbox"
        },
        {
         "hovertemplate": "<b>%{hovertext}</b><br><br>구군=기장군<br>위도=%{lat}<br>경도=%{lon}<extra></extra>",
         "hovertext": [
          "얼크니손칼국수",
          "탐복",
          "만포밀면옥",
          "맛사랑채",
          "배꼽시계",
          "사랑도횟집",
          "장안집",
          "대성칼치찌개구이",
          "올바릇식당 본점",
          "슌",
          "고향연화",
          "포에버얌 부산기장점",
          "솔리보",
          "웨이브온커피",
          "칠암사계",
          "아데초이",
          "브레이크인커피",
          "미청식당",
          "일미아구찜",
          "무진장횟집 기장점",
          "무진장횟집",
          "탐복",
          "고스락",
          "맥퀸즈라운지",
          "아쁘앙",
          "기장곰장어"
         ],
         "lat": {
          "bdata": "veDTnLygQUCH26FhMaRBQLt868N6n0FA1ouhnGifQUDQs1n1uaZBQDgvTny1n0FAk8ZoHVWvQUBxPQrXo5xBQHU8ZqAypEFAeJeL+E6gQUAkYkok0ZtBQP4LBAEypEFAoDcVqTCiQUBoke18P6lBQGeasP1kpkFAqWvtfaqkQUAmVkYjn6tBQJxTyQBQoUFAKdAn8iShQUC/f/PixJtBQL9/8+LEm0FA1XjpJjGkQUAhsd09QKlBQOilYmNemUFA5Ga4AZ+ZQUBy+Q/pt5dBQA==",
          "dtype": "f8"
         },
         "legendgroup": "기장군",
         "lon": {
          "bdata": "cOtunuomYECqmiDqPihgQFnd6jnpJmBAcM6I0t4mYEAOSphp+ydgQCLgEKrUJmBARzgteNEnYEAlXTP5ZidgQCeloNtLKGBAbef7qfEmYEBZi08BMCdgQNGRXP5DKGBAGJXUCWgnYEA2WaMeoihgQGiu00hLKGBAATCeQUMoYECUMNP2ryVgQKyt2F92J2BAacai6ewnYEAXnwJgPCdgQBefAmA8J2BAmC8vwD4oYECto6oJoihgQKEQAYdQJ2BAvsEXJlMnYED7y+7JwyZgQA==",
          "dtype": "f8"
         },
         "marker": {
          "color": "#ab63fa"
         },
         "mode": "markers",
         "name": "기장군",
         "showlegend": true,
         "subplot": "mapbox",
         "type": "scattermapbox"
        },
        {
         "hovertemplate": "<b>%{hovertext}</b><br><br>구군=사하구<br>위도=%{lat}<br>경도=%{lon}<extra></extra>",
         "hovertext": [
          "동원장수촌",
          "양평칼국수 본점",
          "영진돼지국밥 본점",
          "우정까망촌돼지",
          "우연횟집",
          "정짓간 돼지국밥 & 막국수",
          "행복을 짓는 수향촌밥상",
          "하기연진주냉면",
          "복성반점",
          "오공떵번",
          "대티물꽁"
         ],
         "lat": {
          "bdata": "vhOzXgyNQUAhrpy9M4ZBQCO+E7NejEFASphp+1eKQUC14EVfQY5BQAOy17s/jEFAMEeP39uGQUAbutkfKI1BQLlPjgJEjUFA2bJ8XYaNQUD+t5IdG41BQA==",
          "dtype": "f8"
         },
         "legendgroup": "사하구",
         "lon": {
          "bdata": "Q8U4fxMfYEBt5/up8R5gQJ9ZEqCmHmBAMNgN2xYfYEDyQc9m1R5gQLth26LMHmBA+fcZFw4fYEDbiv1l9x5gQCBB8WPMHmBACRueXikfYEDsEtVbAyBgQA==",
          "dtype": "f8"
         },
         "marker": {
          "color": "#FFA15A"
         },
         "mode": "markers",
         "name": "사하구",
         "showlegend": true,
         "subplot": "mapbox",
         "type": "scattermapbox"
        },
        {
         "hovertemplate": "<b>%{hovertext}</b><br><br>구군=부산진구<br>위도=%{lat}<br>경도=%{lon}<extra></extra>",
         "hovertext": [
          "공감식당",
          "다옴 서면 삼정타워점",
          "당감밀면",
          "동백아가씨1961 서면점",
          "전통음식점 원양",
          "구공탄",
          "삼성밀면",
          "나탄약선요리",
          "기장손칼국수",
          "두번째 늘해랑",
          "가야포차선지국밥 본점",
          "손내향미",
          "굿모닝홍콩",
          "반핀 서면전포점",
          "소수인",
          "경찰서옆초밥집",
          "야스마루 쇼쿠도",
          "야스마루 닌니쿠",
          "지즈",
          "바오하우스",
          "버거샵 서면",
          "음주양식당 오스테리아 어부",
          "코르 파스타 바",
          "롯데호텔 부산 블루헤이븐",
          "커피스가모 인 서면",
          "베르크로스터스",
          "히떼 로스터리",
          "원조할매집",
          "사미헌\t\t\t\t\t\t\t\t\t\t\t\t\t",
          "장어촌",
          "기장손칼국수",
          "떼떼오네",
          "음주양식당오스테리아어부",
          "레땅",
          "무궁화",
          "개금밀면",
          "송정3대국밥",
          "원조할매낙지",
          "베르크로스터스",
          "블랙업커피",
          "히떼로스터리"
         ],
         "lat": {
          "bdata": "mpSCbi+VQUBQNA9gkZNBQONve4LElEFA9yAE5EuUQUBr09heC5ZBQGDKwAEtlUFAAd9t3jiXQUCVYHE485dBQM6luKrsk0FABK3AkNWVQUDJHww895JBQImWPJ6Wk0FAWRZM/FGUQUC4AZ8fRpRBQIiE7/0NlEFAi415HXGUQUCG56ViY5RBQFwbKsb5k0FAlX1XBP+TQUD/I9Oh05NBQBU6r7FLlEFACd/7G7STQUAB3gIJipNBQEfJq3MMlEFAI6Et51KUQUCE8GjjiJNBQFAcQL/vk0FAvRx23zGSQUC05sdfWpRBQA4V4/xNlEFAuRluwOeTQUA3UyEeiZNBQAnf+xu0k0FAtAQZARWWQUCAK9mxEZRBQBqiCn+Gk0FAHauUnumTQUAKur2kMZJBQITwaOOIk0FAS7A4nPmTQUBQHEC/75NBQA==",
          "dtype": "f8"
         },
         "legendgroup": "부산진구",
         "lon": {
          "bdata": "QZqxaDohYEBUOlj/5yFgQIPAyqFFIWBANV66SQwiYEBeS8gHPSJgQKNYbmk1IWBAGCZTBaMhYECmRBK9jCFgQN3SakjcIWBAntLB+j8iYEDQRNjw9CBgQF4u4jsxImBAvJF55A8iYECCkCxgAiJgQGYxsfm4IWBANpNvtrkhYECpaoKo+yFgQIdQpWYPImBAeqUsQxwiYEB0RpT2BiJgQPK1Z5YEImBAR6zFpwAiYEBznUZaKiJgQKbVkLjHIWBAGGAfnbohYEAgDDz3HiJgQMoyxLEuImBAacai6ewhYEC536Eo0CFgQEKVmj3QIWBAayv2l90hYECc+dUcICJgQEesxacAImBAhIHn3sMhYEBbJVgcziFgQJ0ui4nNIGBAt3pOet8hYEBXW7G/7CFgQCAMPPceImBAQE0tW+shYEDKMsSxLiJgQA==",
          "dtype": "f8"
         },
         "marker": {
          "color": "#19d3f3"
         },
         "mode": "markers",
         "name": "부산진구",
         "showlegend": true,
         "subplot": "mapbox",
         "type": "scattermapbox"
        }
       ],
       "layout": {
        "height": 600,
        "legend": {
         "title": {
          "text": "구군"
         },
         "tracegroupgap": 0
        },
        "mapbox": {
         "center": {
          "lat": 35.15802492840646,
          "lon": 128.8709105242494
         },
         "domain": {
          "x": [
           0,
           1
          ],
          "y": [
           0,
           1
          ]
         },
         "style": "open-street-map",
         "zoom": 5
        },
        "margin": {
         "b": 0,
         "l": 0,
         "r": 0,
         "t": 40
        },
        "template": {
         "data": {
          "bar": [
           {
            "error_x": {
             "color": "#2a3f5f"
            },
            "error_y": {
             "color": "#2a3f5f"
            },
            "marker": {
             "line": {
              "color": "#E5ECF6",
              "width": 0.5
             },
             "pattern": {
              "fillmode": "overlay",
              "size": 10,
              "solidity": 0.2
             }
            },
            "type": "bar"
           }
          ],
          "barpolar": [
           {
            "marker": {
             "line": {
              "color": "#E5ECF6",
              "width": 0.5
             },
             "pattern": {
              "fillmode": "overlay",
              "size": 10,
              "solidity": 0.2
             }
            },
            "type": "barpolar"
           }
          ],
          "carpet": [
           {
            "aaxis": {
             "endlinecolor": "#2a3f5f",
             "gridcolor": "white",
             "linecolor": "white",
             "minorgridcolor": "white",
             "startlinecolor": "#2a3f5f"
            },
            "baxis": {
             "endlinecolor": "#2a3f5f",
             "gridcolor": "white",
             "linecolor": "white",
             "minorgridcolor": "white",
             "startlinecolor": "#2a3f5f"
            },
            "type": "carpet"
           }
          ],
          "choropleth": [
           {
            "colorbar": {
             "outlinewidth": 0,
             "ticks": ""
            },
            "type": "choropleth"
           }
          ],
          "contour": [
           {
            "colorbar": {
             "outlinewidth": 0,
             "ticks": ""
            },
            "colorscale": [
             [
              0,
              "#0d0887"
             ],
             [
              0.1111111111111111,
              "#46039f"
             ],
             [
              0.2222222222222222,
              "#7201a8"
             ],
             [
              0.3333333333333333,
              "#9c179e"
             ],
             [
              0.4444444444444444,
              "#bd3786"
             ],
             [
              0.5555555555555556,
              "#d8576b"
             ],
             [
              0.6666666666666666,
              "#ed7953"
             ],
             [
              0.7777777777777778,
              "#fb9f3a"
             ],
             [
              0.8888888888888888,
              "#fdca26"
             ],
             [
              1,
              "#f0f921"
             ]
            ],
            "type": "contour"
           }
          ],
          "contourcarpet": [
           {
            "colorbar": {
             "outlinewidth": 0,
             "ticks": ""
            },
            "type": "contourcarpet"
           }
          ],
          "heatmap": [
           {
            "colorbar": {
             "outlinewidth": 0,
             "ticks": ""
            },
            "colorscale": [
             [
              0,
              "#0d0887"
             ],
             [
              0.1111111111111111,
              "#46039f"
             ],
             [
              0.2222222222222222,
              "#7201a8"
             ],
             [
              0.3333333333333333,
              "#9c179e"
             ],
             [
              0.4444444444444444,
              "#bd3786"
             ],
             [
              0.5555555555555556,
              "#d8576b"
             ],
             [
              0.6666666666666666,
              "#ed7953"
             ],
             [
              0.7777777777777778,
              "#fb9f3a"
             ],
             [
              0.8888888888888888,
              "#fdca26"
             ],
             [
              1,
              "#f0f921"
             ]
            ],
            "type": "heatmap"
           }
          ],
          "histogram": [
           {
            "marker": {
             "pattern": {
              "fillmode": "overlay",
              "size": 10,
              "solidity": 0.2
             }
            },
            "type": "histogram"
           }
          ],
          "histogram2d": [
           {
            "colorbar": {
             "outlinewidth": 0,
             "ticks": ""
            },
            "colorscale": [
             [
              0,
              "#0d0887"
             ],
             [
              0.1111111111111111,
              "#46039f"
             ],
             [
              0.2222222222222222,
              "#7201a8"
             ],
             [
              0.3333333333333333,
              "#9c179e"
             ],
             [
              0.4444444444444444,
              "#bd3786"
             ],
             [
              0.5555555555555556,
              "#d8576b"
             ],
             [
              0.6666666666666666,
              "#ed7953"
             ],
             [
              0.7777777777777778,
              "#fb9f3a"
             ],
             [
              0.8888888888888888,
              "#fdca26"
             ],
             [
              1,
              "#f0f921"
             ]
            ],
            "type": "histogram2d"
           }
          ],
          "histogram2dcontour": [
           {
            "colorbar": {
             "outlinewidth": 0,
             "ticks": ""
            },
            "colorscale": [
             [
              0,
              "#0d0887"
             ],
             [
              0.1111111111111111,
              "#46039f"
             ],
             [
              0.2222222222222222,
              "#7201a8"
             ],
             [
              0.3333333333333333,
              "#9c179e"
             ],
             [
              0.4444444444444444,
              "#bd3786"
             ],
             [
              0.5555555555555556,
              "#d8576b"
             ],
             [
              0.6666666666666666,
              "#ed7953"
             ],
             [
              0.7777777777777778,
              "#fb9f3a"
             ],
             [
              0.8888888888888888,
              "#fdca26"
             ],
             [
              1,
              "#f0f921"
             ]
            ],
            "type": "histogram2dcontour"
           }
          ],
          "mesh3d": [
           {
            "colorbar": {
             "outlinewidth": 0,
             "ticks": ""
            },
            "type": "mesh3d"
           }
          ],
          "parcoords": [
           {
            "line": {
             "colorbar": {
              "outlinewidth": 0,
              "ticks": ""
             }
            },
            "type": "parcoords"
           }
          ],
          "pie": [
           {
            "automargin": true,
            "type": "pie"
           }
          ],
          "scatter": [
           {
            "fillpattern": {
             "fillmode": "overlay",
             "size": 10,
             "solidity": 0.2
            },
            "type": "scatter"
           }
          ],
          "scatter3d": [
           {
            "line": {
             "colorbar": {
              "outlinewidth": 0,
              "ticks": ""
             }
            },
            "marker": {
             "colorbar": {
              "outlinewidth": 0,
              "ticks": ""
             }
            },
            "type": "scatter3d"
           }
          ],
          "scattercarpet": [
           {
            "marker": {
             "colorbar": {
              "outlinewidth": 0,
              "ticks": ""
             }
            },
            "type": "scattercarpet"
           }
          ],
          "scattergeo": [
           {
            "marker": {
             "colorbar": {
              "outlinewidth": 0,
              "ticks": ""
             }
            },
            "type": "scattergeo"
           }
          ],
          "scattergl": [
           {
            "marker": {
             "colorbar": {
              "outlinewidth": 0,
              "ticks": ""
             }
            },
            "type": "scattergl"
           }
          ],
          "scattermap": [
           {
            "marker": {
             "colorbar": {
              "outlinewidth": 0,
              "ticks": ""
             }
            },
            "type": "scattermap"
           }
          ],
          "scattermapbox": [
           {
            "marker": {
             "colorbar": {
              "outlinewidth": 0,
              "ticks": ""
             }
            },
            "type": "scattermapbox"
           }
          ],
          "scatterpolar": [
           {
            "marker": {
             "colorbar": {
              "outlinewidth": 0,
              "ticks": ""
             }
            },
            "type": "scatterpolar"
           }
          ],
          "scatterpolargl": [
           {
            "marker": {
             "colorbar": {
              "outlinewidth": 0,
              "ticks": ""
             }
            },
            "type": "scatterpolargl"
           }
          ],
          "scatterternary": [
           {
            "marker": {
             "colorbar": {
              "outlinewidth": 0,
              "ticks": ""
             }
            },
            "type": "scatterternary"
           }
          ],
          "surface": [
           {
            "colorbar": {
             "outlinewidth": 0,
             "ticks": ""
            },
            "colorscale": [
             [
              0,
              "#0d0887"
             ],
             [
              0.1111111111111111,
              "#46039f"
             ],
             [
              0.2222222222222222,
              "#7201a8"
             ],
             [
              0.3333333333333333,
              "#9c179e"
             ],
             [
              0.4444444444444444,
              "#bd3786"
             ],
             [
              0.5555555555555556,
              "#d8576b"
             ],
             [
              0.6666666666666666,
              "#ed7953"
             ],
             [
              0.7777777777777778,
              "#fb9f3a"
             ],
             [
              0.8888888888888888,
              "#fdca26"
             ],
             [
              1,
              "#f0f921"
             ]
            ],
            "type": "surface"
           }
          ],
          "table": [
           {
            "cells": {
             "fill": {
              "color": "#EBF0F8"
             },
             "line": {
              "color": "white"
             }
            },
            "header": {
             "fill": {
              "color": "#C8D4E3"
             },
             "line": {
              "color": "white"
             }
            },
            "type": "table"
           }
          ]
         },
         "layout": {
          "annotationdefaults": {
           "arrowcolor": "#2a3f5f",
           "arrowhead": 0,
           "arrowwidth": 1
          },
          "autotypenumbers": "strict",
          "coloraxis": {
           "colorbar": {
            "outlinewidth": 0,
            "ticks": ""
           }
          },
          "colorscale": {
           "diverging": [
            [
             0,
             "#8e0152"
            ],
            [
             0.1,
             "#c51b7d"
            ],
            [
             0.2,
             "#de77ae"
            ],
            [
             0.3,
             "#f1b6da"
            ],
            [
             0.4,
             "#fde0ef"
            ],
            [
             0.5,
             "#f7f7f7"
            ],
            [
             0.6,
             "#e6f5d0"
            ],
            [
             0.7,
             "#b8e186"
            ],
            [
             0.8,
             "#7fbc41"
            ],
            [
             0.9,
             "#4d9221"
            ],
            [
             1,
             "#276419"
            ]
           ],
           "sequential": [
            [
             0,
             "#0d0887"
            ],
            [
             0.1111111111111111,
             "#46039f"
            ],
            [
             0.2222222222222222,
             "#7201a8"
            ],
            [
             0.3333333333333333,
             "#9c179e"
            ],
            [
             0.4444444444444444,
             "#bd3786"
            ],
            [
             0.5555555555555556,
             "#d8576b"
            ],
            [
             0.6666666666666666,
             "#ed7953"
            ],
            [
             0.7777777777777778,
             "#fb9f3a"
            ],
            [
             0.8888888888888888,
             "#fdca26"
            ],
            [
             1,
             "#f0f921"
            ]
           ],
           "sequentialminus": [
            [
             0,
             "#0d0887"
            ],
            [
             0.1111111111111111,
             "#46039f"
            ],
            [
             0.2222222222222222,
             "#7201a8"
            ],
            [
             0.3333333333333333,
             "#9c179e"
            ],
            [
             0.4444444444444444,
             "#bd3786"
            ],
            [
             0.5555555555555556,
             "#d8576b"
            ],
            [
             0.6666666666666666,
             "#ed7953"
            ],
            [
             0.7777777777777778,
             "#fb9f3a"
            ],
            [
             0.8888888888888888,
             "#fdca26"
            ],
            [
             1,
             "#f0f921"
            ]
           ]
          },
          "colorway": [
           "#636efa",
           "#EF553B",
           "#00cc96",
           "#ab63fa",
           "#FFA15A",
           "#19d3f3",
           "#FF6692",
           "#B6E880",
           "#FF97FF",
           "#FECB52"
          ],
          "font": {
           "color": "#2a3f5f"
          },
          "geo": {
           "bgcolor": "white",
           "lakecolor": "white",
           "landcolor": "#E5ECF6",
           "showlakes": true,
           "showland": true,
           "subunitcolor": "white"
          },
          "hoverlabel": {
           "align": "left"
          },
          "hovermode": "closest",
          "mapbox": {
           "style": "light"
          },
          "paper_bgcolor": "white",
          "plot_bgcolor": "#E5ECF6",
          "polar": {
           "angularaxis": {
            "gridcolor": "white",
            "linecolor": "white",
            "ticks": ""
           },
           "bgcolor": "#E5ECF6",
           "radialaxis": {
            "gridcolor": "white",
            "linecolor": "white",
            "ticks": ""
           }
          },
          "scene": {
           "xaxis": {
            "backgroundcolor": "#E5ECF6",
            "gridcolor": "white",
            "gridwidth": 2,
            "linecolor": "white",
            "showbackground": true,
            "ticks": "",
            "zerolinecolor": "white"
           },
           "yaxis": {
            "backgroundcolor": "#E5ECF6",
            "gridcolor": "white",
            "gridwidth": 2,
            "linecolor": "white",
            "showbackground": true,
            "ticks": "",
            "zerolinecolor": "white"
           },
           "zaxis": {
            "backgroundcolor": "#E5ECF6",
            "gridcolor": "white",
            "gridwidth": 2,
            "linecolor": "white",
            "showbackground": true,
            "ticks": "",
            "zerolinecolor": "white"
           }
          },
          "shapedefaults": {
           "line": {
            "color": "#2a3f5f"
           }
          },
          "ternary": {
           "aaxis": {
            "gridcolor": "white",
            "linecolor": "white",
            "ticks": ""
           },
           "baxis": {
            "gridcolor": "white",
            "linecolor": "white",
            "ticks": ""
           },
           "bgcolor": "#E5ECF6",
           "caxis": {
            "gridcolor": "white",
            "linecolor": "white",
            "ticks": ""
           }
          },
          "title": {
           "x": 0.05
          },
          "xaxis": {
           "automargin": true,
           "gridcolor": "white",
           "linecolor": "white",
           "ticks": "",
           "title": {
            "standoff": 15
           },
           "zerolinecolor": "white",
           "zerolinewidth": 2
          },
          "yaxis": {
           "automargin": true,
           "gridcolor": "white",
           "linecolor": "white",
           "ticks": "",
           "title": {
            "standoff": 15
           },
           "zerolinecolor": "white",
           "zerolinewidth": 2
          }
         }
        },
        "title": {
         "text": "📍 부산 맛집 위치 지도 (구군별)"
        }
       }
      }
     },
     "metadata": {},
     "output_type": "display_data"
    }
   ],
   "source": [
    "import pandas as pd\n",
    "import matplotlib.pyplot as plt\n",
    "import seaborn as sns\n",
    "import plotly.express as px\n",
    "\n",
    "df = pd.read_csv('busan-food.csv')\n",
    "\n",
    "fig = px.scatter_mapbox(\n",
    "    df,\n",
    "    lat=\"위도\",\n",
    "    lon=\"경도\",\n",
    "    color=\"구군\",  # 색상으로 구분\n",
    "    hover_name=\"장소\",  # 마우스 오버 시 표시\n",
    "    zoom=15,\n",
    "    height=600\n",
    ")\n",
    "\n",
    "fig.update_layout(\n",
    "    mapbox_style=\"open-street-map\",\n",
    "    title=\"📍 부산 맛집 위치 지도 (구군별)\",\n",
    "    margin={\"r\":0, \"t\":40, \"l\":0, \"b\":0}\n",
    ")\n",
    "\n",
    "fig.show()\n"
   ]
  }
 ],
 "metadata": {
  "kernelspec": {
   "display_name": "Python 3",
   "language": "python",
   "name": "python3"
  },
  "language_info": {
   "codemirror_mode": {
    "name": "ipython",
    "version": 3
   },
   "file_extension": ".py",
   "mimetype": "text/x-python",
   "name": "python",
   "nbconvert_exporter": "python",
   "pygments_lexer": "ipython3",
   "version": "3.9.13"
  }
 },
 "nbformat": 4,
 "nbformat_minor": 5
}
