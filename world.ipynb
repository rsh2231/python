{
 "cells": [
  {
   "cell_type": "markdown",
   "id": "45b0a850",
   "metadata": {},
   "source": [
    "CountryStatistics 클래스\n",
    "__clean_numeric_data(value: str): 문자열을 입력으로 받아 쉼표, 달러 기호, 백분율 기호를 제거하고 숫자 값을 float으로 반환합니다. 입력을 변환할 수 없으면 0.0을 반환합니다.\n",
    "힌트: 이 함수는 쉼표나 달러 기호가 포함된 CSV 파일의 숫자 데이터를 처리하는 데 유용합니다. 빈 문자열이나 숫자가 아닌 값을 처리할 수 있도록 예외 처리에 신경 쓰세요.\n",
    "\n",
    "__load_data(filename: str): CSV 파일에서 국가 데이터를 로드하고 데이터를 파싱하여 Country 객체를 생성합니다. 정리된 데이터는 self.countries 리스트에 저장됩니다. 파일 로드 완료 후 현재 시간을 self.load_time에 저장합니다.\n",
    "힌트: csv.reader를 사용하여 CSV 파일을 한 줄씩 읽습니다. 첫 번째 행은 헤더이므로 건너뜁니다. 모든 숫자 데이터 필드에 대해 __clean_numeric_data를 호출하여 데이터를 저장하기 전에 정확하게 정리된 데이터를 확인하세요. GDP, 기대 수명, 인구 등의 열 인덱스를 정확하게 매핑하세요.\n",
    "\n",
    "top_5_gdp(): GDP가 가장 높은 상위 5개 국가의 이름과 쉼표로 형식화된 GDP 값을 포함한 튜플 목록을 반환합니다.\n",
    "힌트: 국가들을 gdp 속성 기준으로 내림차순 정렬하세요. 슬라이싱 ([:5])을 사용하여 상위 5개 항목을 선택하세요. 국가 이름과 형식화된 GDP 값을 반환하세요.\n",
    "\n",
    "top_5_life_expectancy(): 기대 수명이 가장 긴 상위 5개 국가의 이름과 그들의 기대 수명 값을 포함한 튜플 목록을 반환합니다.\n",
    "힌트: 국가들을 기대 수명(life_expectancy) 기준으로 내림차순 정렬하세요. 슬라이싱 ([:5])을 사용하여 상위 5개 항목을 추출하세요. 기대 수명 값은 형식화할 필요가 없으므로 있는 그대로 반환하세요.\n",
    "\n",
    "countries_by_density(): 인구 밀도가 가장 높은 상위 5개 국가의 이름과 인구 밀도를 반환합니다.\n",
    "힌트: 국가들을 인구 밀도(density) 속성 기준으로 내림차순 정렬하세요. 슬라이싱 ([:5])을 사용하여 상위 5개 항목을 선택하세요. 인구 밀도 값은 정수이므로 형식화할 필요가 없습니다.\n",
    "\n",
    "get_data_load_time(format_str=None): 데이터 로드 시간을 반환하며, format_str로 사용자 지정 포맷을 지원합니다. 데이터가 아직 로드되지 않았다면 None을 반환합니다.\n",
    "힌트: strftime 메서드를 이용해 봅니다.\n",
    "\n",
    "plot_geo_scatter(self): 위도와 경도 데이터를 사용하여 지리적 산점도를 그립니다.\n",
    "힌트: plotly.express.scatter_geo 메서드를 이용해 봅니다. (16.2 이후 도전하기)"
   ]
  },
  {
   "cell_type": "code",
   "execution_count": 7,
   "id": "81a4a8ed",
   "metadata": {},
   "outputs": [
    {
     "name": "stdout",
     "output_type": "stream",
     "text": [
      "[{'name': 'Afghanistan', 'gdp': 19101353833.0, 'life_expectancy': 64.5, 'density': 60.0, 'lat': 33.93911, 'lon': 67.709953}, {'name': 'Albania', 'gdp': 15278077447.0, 'life_expectancy': 78.5, 'density': 105.0, 'lat': 41.153332, 'lon': 20.168331}, {'name': 'Algeria', 'gdp': 169988236398.0, 'life_expectancy': 76.7, 'density': 18.0, 'lat': 28.033886, 'lon': 1.659626}, {'name': 'Andorra', 'gdp': 3154057987.0, 'life_expectancy': 0.0, 'density': 164.0, 'lat': 42.506285, 'lon': 1.521801}, {'name': 'Angola', 'gdp': 94635415870.0, 'life_expectancy': 60.8, 'density': 26.0, 'lat': -11.202692, 'lon': 17.873887}, {'name': 'Antigua and Barbuda', 'gdp': 1727759259.0, 'life_expectancy': 76.9, 'density': 223.0, 'lat': 17.060816, 'lon': -61.796428}, {'name': 'Argentina', 'gdp': 449663446954.0, 'life_expectancy': 76.5, 'density': 17.0, 'lat': -38.416097, 'lon': -63.616672}, {'name': 'Armenia', 'gdp': 13672802158.0, 'life_expectancy': 74.9, 'density': 104.0, 'lat': 40.069099, 'lon': 45.038189}, {'name': 'Australia', 'gdp': 1392680589329.0, 'life_expectancy': 82.7, 'density': 3.0, 'lat': -25.274398, 'lon': 133.775136}, {'name': 'Austria', 'gdp': 446314739528.0, 'life_expectancy': 81.6, 'density': 109.0, 'lat': 47.516231, 'lon': 14.550072}, {'name': 'Azerbaijan', 'gdp': 39207000000.0, 'life_expectancy': 72.9, 'density': 123.0, 'lat': 40.143105, 'lon': 47.576927}, {'name': 'The Bahamas', 'gdp': 12827000000.0, 'life_expectancy': 73.8, 'density': 39.0, 'lat': 25.03428, 'lon': -77.39628}, {'name': 'Bahrain', 'gdp': 38574069149.0, 'life_expectancy': 77.2, 'density': 2239.0, 'lat': 26.0667, 'lon': 50.5577}, {'name': 'Bangladesh', 'gdp': 302571254131.0, 'life_expectancy': 72.3, 'density': 1265.0, 'lat': 23.684994, 'lon': 90.356331}, {'name': 'Barbados', 'gdp': 5209000000.0, 'life_expectancy': 79.1, 'density': 668.0, 'lat': 13.193887, 'lon': -59.543198}, {'name': 'Belarus', 'gdp': 63080457023.0, 'life_expectancy': 74.2, 'density': 47.0, 'lat': 53.709807, 'lon': 27.953389}, {'name': 'Belgium', 'gdp': 529606710418.0, 'life_expectancy': 81.6, 'density': 383.0, 'lat': 50.503887, 'lon': 4.469936}, {'name': 'Belize', 'gdp': 1879613600.0, 'life_expectancy': 74.5, 'density': 17.0, 'lat': 17.189877, 'lon': -88.49765}, {'name': 'Benin', 'gdp': 14390709095.0, 'life_expectancy': 61.5, 'density': 108.0, 'lat': 9.30769, 'lon': 2.315834}, {'name': 'Bhutan', 'gdp': 2446674101.0, 'life_expectancy': 71.5, 'density': 20.0, 'lat': 27.514162, 'lon': 90.433601}, {'name': 'Bolivia', 'gdp': 40895322865.0, 'life_expectancy': 71.2, 'density': 11.0, 'lat': -16.290154, 'lon': -63.588653}, {'name': 'Bosnia and Herzegovina', 'gdp': 20047848435.0, 'life_expectancy': 77.3, 'density': 64.0, 'lat': 43.915886, 'lon': 17.679076}, {'name': 'Botswana', 'gdp': 18340510789.0, 'life_expectancy': 69.3, 'density': 4.0, 'lat': -22.328474, 'lon': 24.684866}, {'name': 'Brazil', 'gdp': 1839758040766.0, 'life_expectancy': 75.7, 'density': 25.0, 'lat': -14.235004, 'lon': -51.92528}, {'name': 'Brunei', 'gdp': 13469422941.0, 'life_expectancy': 75.7, 'density': 83.0, 'lat': 4.535277, 'lon': 114.727669}, {'name': 'Bulgaria', 'gdp': 86000000000.0, 'life_expectancy': 74.9, 'density': 64.0, 'lat': 42.733883, 'lon': 25.48583}, {'name': 'Burkina Faso', 'gdp': 15745810235.0, 'life_expectancy': 61.2, 'density': 76.0, 'lat': 12.238333, 'lon': -1.561593}, {'name': 'Burundi', 'gdp': 3012334882.0, 'life_expectancy': 61.2, 'density': 463.0, 'lat': -3.373056, 'lon': 29.918886}, {'name': 'Ivory Coast', 'gdp': 58792205642.0, 'life_expectancy': 57.4, 'density': 83.0, 'lat': 7.539989, 'lon': -5.54708}, {'name': 'Cape Verde', 'gdp': 1981845741.0, 'life_expectancy': 72.8, 'density': 138.0, 'lat': 16.5388, 'lon': -23.0418}, {'name': 'Cambodia', 'gdp': 27089389787.0, 'life_expectancy': 69.6, 'density': 95.0, 'lat': 12.565679, 'lon': 104.990963}, {'name': 'Cameroon', 'gdp': 38760467033.0, 'life_expectancy': 58.9, 'density': 56.0, 'lat': 7.369722, 'lon': 12.354722}, {'name': 'Canada', 'gdp': 1736425629520.0, 'life_expectancy': 81.9, 'density': 4.0, 'lat': 56.130366, 'lon': -106.346771}, {'name': 'Central African Republic', 'gdp': 2220307369.0, 'life_expectancy': 52.8, 'density': 8.0, 'lat': 6.611111, 'lon': 20.939444}, {'name': 'Chad', 'gdp': 11314951343.0, 'life_expectancy': 54.0, 'density': 13.0, 'lat': 15.454166, 'lon': 18.732207}, {'name': 'Chile', 'gdp': 282318159745.0, 'life_expectancy': 80.0, 'density': 26.0, 'lat': -35.675147, 'lon': -71.542969}, {'name': 'China', 'gdp': 19910000000000.0, 'life_expectancy': 77.0, 'density': 153.0, 'lat': 35.86166, 'lon': 104.195397}, {'name': 'Colombia', 'gdp': 323802808108.0, 'life_expectancy': 77.1, 'density': 46.0, 'lat': 4.570868, 'lon': -74.297333}, {'name': 'Comoros', 'gdp': 1185728677.0, 'life_expectancy': 64.1, 'density': 467.0, 'lat': -11.6455, 'lon': 43.3333}, {'name': 'Republic of the Congo', 'gdp': 10820591131.0, 'life_expectancy': 64.3, 'density': 16.0, 'lat': -0.228021, 'lon': 15.827659}, {'name': 'Costa Rica', 'gdp': 61773944174.0, 'life_expectancy': 80.1, 'density': 100.0, 'lat': 9.748917, 'lon': -83.753428}, {'name': 'Croatia', 'gdp': 60415553039.0, 'life_expectancy': 78.1, 'density': 73.0, 'lat': 45.1, 'lon': 15.2}, {'name': 'Cuba', 'gdp': 100023000000.0, 'life_expectancy': 78.7, 'density': 106.0, 'lat': 21.521757, 'lon': -77.781167}, {'name': 'Cyprus', 'gdp': 24564647935.0, 'life_expectancy': 80.8, 'density': 131.0, 'lat': 35.126413, 'lon': 33.429859}, {'name': 'Czech Republic', 'gdp': 246489245495.0, 'life_expectancy': 79.0, 'density': 139.0, 'lat': 49.817492, 'lon': 15.472962}, {'name': 'Democratic Republic of the Congo', 'gdp': 47319624204.0, 'life_expectancy': 60.4, 'density': 40.0, 'lat': -4.038333, 'lon': 21.758664}, {'name': 'Denmark', 'gdp': 348078018464.0, 'life_expectancy': 81.0, 'density': 137.0, 'lat': 56.26392, 'lon': 9.501785}, {'name': 'Djibouti', 'gdp': 3318716359.0, 'life_expectancy': 66.6, 'density': 43.0, 'lat': 11.825138, 'lon': 42.590275}, {'name': 'Dominica', 'gdp': 596033333.0, 'life_expectancy': 76.6, 'density': 96.0, 'lat': 15.414999, 'lon': -61.370976}, {'name': 'Dominican Republic', 'gdp': 88941298258.0, 'life_expectancy': 73.9, 'density': 225.0, 'lat': 18.735693, 'lon': -70.162651}, {'name': 'Ecuador', 'gdp': 107435665000.0, 'life_expectancy': 76.8, 'density': 71.0, 'lat': -1.831239, 'lon': -78.183406}, {'name': 'Egypt', 'gdp': 303175127598.0, 'life_expectancy': 71.8, 'density': 103.0, 'lat': 26.820553, 'lon': 30.802498}, {'name': 'El Salvador', 'gdp': 27022640000.0, 'life_expectancy': 73.1, 'density': 313.0, 'lat': 13.794185, 'lon': -88.89653}, {'name': 'Equatorial Guinea', 'gdp': 11026774945.0, 'life_expectancy': 58.4, 'density': 50.0, 'lat': 1.650801, 'lon': 10.267895}, {'name': 'Eritrea', 'gdp': 2065001626.0, 'life_expectancy': 65.9, 'density': 35.0, 'lat': 15.179384, 'lon': 39.782334}, {'name': 'Estonia', 'gdp': 31386949981.0, 'life_expectancy': 78.2, 'density': 31.0, 'lat': 58.595272, 'lon': 25.013607}, {'name': 'Eswatini', 'gdp': 3791304348.0, 'life_expectancy': 0.0, 'density': 67.0, 'lat': -26.522503, 'lon': 31.465866}, {'name': 'Ethiopia', 'gdp': 96107662398.0, 'life_expectancy': 66.2, 'density': 115.0, 'lat': 9.145, 'lon': 40.489673}, {'name': 'Fiji', 'gdp': 5535548972.0, 'life_expectancy': 67.3, 'density': 49.0, 'lat': -17.713371, 'lon': 178.065032}, {'name': 'Finland', 'gdp': 268761201365.0, 'life_expectancy': 81.7, 'density': 18.0, 'lat': 61.92411, 'lon': 25.748151}, {'name': 'France', 'gdp': 2715518274227.0, 'life_expectancy': 82.5, 'density': 119.0, 'lat': 46.227638, 'lon': 2.213749}, {'name': 'Gabon', 'gdp': 16657960228.0, 'life_expectancy': 66.2, 'density': 9.0, 'lat': -0.803689, 'lon': 11.609444}, {'name': 'The Gambia', 'gdp': 1763819048.0, 'life_expectancy': 61.7, 'density': 239.0, 'lat': 13.443182, 'lon': -15.310139}, {'name': 'Georgia', 'gdp': 17743195770.0, 'life_expectancy': 73.6, 'density': 57.0, 'lat': 42.315407, 'lon': 43.356892}, {'name': 'Germany', 'gdp': 3845630030824.0, 'life_expectancy': 80.9, 'density': 240.0, 'lat': 51.165691, 'lon': 10.451526}, {'name': 'Ghana', 'gdp': 66983634224.0, 'life_expectancy': 63.8, 'density': 137.0, 'lat': 7.946527, 'lon': -1.023194}, {'name': 'Greece', 'gdp': 209852761469.0, 'life_expectancy': 81.3, 'density': 81.0, 'lat': 39.074208, 'lon': 21.824312}, {'name': 'Grenada', 'gdp': 1228170370.0, 'life_expectancy': 72.4, 'density': 331.0, 'lat': 12.1165, 'lon': -61.679}, {'name': 'Guatemala', 'gdp': 76710385880.0, 'life_expectancy': 74.1, 'density': 167.0, 'lat': 15.783471, 'lon': -90.230759}, {'name': 'Guinea', 'gdp': 13590281809.0, 'life_expectancy': 61.2, 'density': 53.0, 'lat': 9.945587, 'lon': -9.696645}, {'name': 'Guinea-Bissau', 'gdp': 1340389411.0, 'life_expectancy': 58.0, 'density': 70.0, 'lat': 11.803749, 'lon': -15.180413}, {'name': 'Guyana', 'gdp': 4280443645.0, 'life_expectancy': 69.8, 'density': 4.0, 'lat': 4.860416, 'lon': -58.93018}, {'name': 'Haiti', 'gdp': 8498981821.0, 'life_expectancy': 63.7, 'density': 414.0, 'lat': 18.971187, 'lon': -72.285215}, {'name': 'Vatican City', 'gdp': 0.0, 'life_expectancy': 0.0, 'density': 2003.0, 'lat': 41.902916, 'lon': 12.453389}, {'name': 'Honduras', 'gdp': 25095395475.0, 'life_expectancy': 75.1, 'density': 89.0, 'lat': 15.199999, 'lon': -86.241905}, {'name': 'Hungary', 'gdp': 160967157504.0, 'life_expectancy': 75.8, 'density': 107.0, 'lat': 47.162494, 'lon': 19.503304}, {'name': 'Iceland', 'gdp': 24188035739.0, 'life_expectancy': 82.7, 'density': 3.0, 'lat': 64.963051, 'lon': -19.020835}, {'name': 'India', 'gdp': 2611000000000.0, 'life_expectancy': 69.4, 'density': 464.0, 'lat': 20.593684, 'lon': 78.96288}, {'name': 'Indonesia', 'gdp': 1119190780753.0, 'life_expectancy': 71.5, 'density': 151.0, 'lat': -0.789275, 'lon': 113.921327}, {'name': 'Iran', 'gdp': 445345282123.0, 'life_expectancy': 76.5, 'density': 52.0, 'lat': 32.427908, 'lon': 53.688046}, {'name': 'Iraq', 'gdp': 234094042939.0, 'life_expectancy': 70.5, 'density': 93.0, 'lat': 33.223191, 'lon': 43.679291}, {'name': 'Republic of Ireland', 'gdp': 388698711348.0, 'life_expectancy': 82.3, 'density': 72.0, 'lat': 53.41291, 'lon': -8.24389}, {'name': 'Israel', 'gdp': 395098666122.0, 'life_expectancy': 82.8, 'density': 400.0, 'lat': 31.046051, 'lon': 34.851612}, {'name': 'Italy', 'gdp': 2001244392042.0, 'life_expectancy': 82.9, 'density': 206.0, 'lat': 41.87194, 'lon': 12.56738}, {'name': 'Jamaica', 'gdp': 16458071068.0, 'life_expectancy': 74.4, 'density': 273.0, 'lat': 18.109581, 'lon': -77.297508}, {'name': 'Japan', 'gdp': 5081769542380.0, 'life_expectancy': 84.2, 'density': 347.0, 'lat': 36.204824, 'lon': 138.252924}, {'name': 'Jordan', 'gdp': 43743661972.0, 'life_expectancy': 74.4, 'density': 115.0, 'lat': 30.585164, 'lon': 36.238414}, {'name': 'Kazakhstan', 'gdp': 180161741180.0, 'life_expectancy': 73.2, 'density': 7.0, 'lat': 48.019573, 'lon': 66.923684}, {'name': 'Kenya', 'gdp': 95503088538.0, 'life_expectancy': 66.3, 'density': 94.0, 'lat': -0.023559, 'lon': 37.906193}, {'name': 'Kiribati', 'gdp': 194647202.0, 'life_expectancy': 68.1, 'density': 147.0, 'lat': 1.8368976, 'lon': -157.3768317}, {'name': 'Kuwait', 'gdp': 134761198946.0, 'life_expectancy': 75.4, 'density': 240.0, 'lat': 29.31166, 'lon': 47.481766}, {'name': 'Kyrgyzstan', 'gdp': 8454619608.0, 'life_expectancy': 71.4, 'density': 34.0, 'lat': 41.20438, 'lon': 74.766098}, {'name': 'Laos', 'gdp': 18173839128.0, 'life_expectancy': 67.6, 'density': 32.0, 'lat': 19.85627, 'lon': 102.495496}, {'name': 'Latvia', 'gdp': 34117202555.0, 'life_expectancy': 74.7, 'density': 30.0, 'lat': 56.879635, 'lon': 24.603189}, {'name': 'Lebanon', 'gdp': 53367042272.0, 'life_expectancy': 78.9, 'density': 667.0, 'lat': 33.854721, 'lon': 35.862285}, {'name': 'Lesotho', 'gdp': 2460072444.0, 'life_expectancy': 53.7, 'density': 71.0, 'lat': -29.609988, 'lon': 28.233608}, {'name': 'Liberia', 'gdp': 3070518100.0, 'life_expectancy': 63.7, 'density': 53.0, 'lat': 6.428055, 'lon': -9.429499}, {'name': 'Libya', 'gdp': 52076250948.0, 'life_expectancy': 72.7, 'density': 4.0, 'lat': 26.3351, 'lon': 17.228331}, {'name': 'Liechtenstein', 'gdp': 6552858739.0, 'life_expectancy': 83.0, 'density': 238.0, 'lat': 47.1410392, 'lon': 9.520935}, {'name': 'Lithuania', 'gdp': 54219315600.0, 'life_expectancy': 75.7, 'density': 43.0, 'lat': 55.169438, 'lon': 23.881275}, {'name': 'Luxembourg', 'gdp': 71104919108.0, 'life_expectancy': 82.1, 'density': 242.0, 'lat': 49.815273, 'lon': 6.129583}, {'name': 'Madagascar', 'gdp': 14083906357.0, 'life_expectancy': 66.7, 'density': 48.0, 'lat': -18.766947, 'lon': 46.869107}, {'name': 'Malawi', 'gdp': 7666704427.0, 'life_expectancy': 63.8, 'density': 203.0, 'lat': -13.254308, 'lon': 34.301525}, {'name': 'Malaysia', 'gdp': 364701517788.0, 'life_expectancy': 76.0, 'density': 99.0, 'lat': 4.210484, 'lon': 101.975766}, {'name': 'Maldives', 'gdp': 5729248472.0, 'life_expectancy': 78.6, 'density': 1802.0, 'lat': 3.202778, 'lon': 73.22068}, {'name': 'Mali', 'gdp': 17510141171.0, 'life_expectancy': 58.9, 'density': 17.0, 'lat': 17.570692, 'lon': -3.996166}, {'name': 'Malta', 'gdp': 14786156563.0, 'life_expectancy': 82.3, 'density': 1380.0, 'lat': 35.937496, 'lon': 14.375416}, {'name': 'Marshall Islands', 'gdp': 221278000.0, 'life_expectancy': 65.2, 'density': 329.0, 'lat': 7.131474, 'lon': 171.184478}, {'name': 'Mauritania', 'gdp': 7593752450.0, 'life_expectancy': 64.7, 'density': 5.0, 'lat': 21.00789, 'lon': -10.940835}, {'name': 'Mauritius', 'gdp': 14180444557.0, 'life_expectancy': 74.4, 'density': 626.0, 'lat': -20.348404, 'lon': 57.552152}, {'name': 'Mexico', 'gdp': 1258286717125.0, 'life_expectancy': 75.0, 'density': 66.0, 'lat': 23.634501, 'lon': -102.552784}, {'name': 'Federated States of Micronesia', 'gdp': 401932279.0, 'life_expectancy': 67.8, 'density': 784.0, 'lat': 7.425554, 'lon': 150.550812}, {'name': 'Moldova', 'gdp': 11955435457.0, 'life_expectancy': 71.8, 'density': 123.0, 'lat': 47.411631, 'lon': 28.369885}, {'name': 'Monaco', 'gdp': 7184844193.0, 'life_expectancy': 0.0, 'density': 26337.0, 'lat': 43.7384176, 'lon': 7.4246158}, {'name': 'Mongolia', 'gdp': 13852850259.0, 'life_expectancy': 69.7, 'density': 2.0, 'lat': 46.862496, 'lon': 103.846656}, {'name': 'Montenegro', 'gdp': 5494736901.0, 'life_expectancy': 76.8, 'density': 47.0, 'lat': 42.708678, 'lon': 19.37439}, {'name': 'Morocco', 'gdp': 118725279596.0, 'life_expectancy': 76.5, 'density': 83.0, 'lat': 31.791702, 'lon': -7.09262}, {'name': 'Mozambique', 'gdp': 14934159926.0, 'life_expectancy': 60.2, 'density': 40.0, 'lat': -18.665695, 'lon': 35.529562}, {'name': 'Myanmar', 'gdp': 76085852617.0, 'life_expectancy': 66.9, 'density': 83.0, 'lat': 21.916221, 'lon': 95.955974}, {'name': 'Namibia', 'gdp': 12366527719.0, 'life_expectancy': 63.4, 'density': 3.0, 'lat': -22.95764, 'lon': 18.49041}, {'name': 'Nauru', 'gdp': 133000000.0, 'life_expectancy': 0.0, 'density': 541.0, 'lat': -0.522778, 'lon': 166.931503}, {'name': 'Nepal', 'gdp': 30641380604.0, 'life_expectancy': 70.5, 'density': 203.0, 'lat': 28.394857, 'lon': 84.124008}, {'name': 'Netherlands', 'gdp': 909070395161.0, 'life_expectancy': 81.8, 'density': 508.0, 'lat': 52.132633, 'lon': 5.291266}, {'name': 'New Zealand', 'gdp': 206928765544.0, 'life_expectancy': 81.9, 'density': 18.0, 'lat': -40.900557, 'lon': 174.885971}, {'name': 'Nicaragua', 'gdp': 12520915291.0, 'life_expectancy': 74.3, 'density': 55.0, 'lat': 12.865416, 'lon': -85.207229}, {'name': 'Niger', 'gdp': 12928145120.0, 'life_expectancy': 62.0, 'density': 19.0, 'lat': 17.607789, 'lon': 8.081666}, {'name': 'Nigeria', 'gdp': 448120428859.0, 'life_expectancy': 54.3, 'density': 226.0, 'lat': 9.081999, 'lon': 8.675277}, {'name': 'North Korea', 'gdp': 32100000000.0, 'life_expectancy': 72.1, 'density': 214.0, 'lat': 40.339852, 'lon': 127.510093}, {'name': 'North Macedonia', 'gdp': 10220781069.0, 'life_expectancy': 0.0, 'density': 83.0, 'lat': 41.608635, 'lon': 21.745275}, {'name': 'Norway', 'gdp': 403336363636.0, 'life_expectancy': 82.8, 'density': 15.0, 'lat': 60.472024, 'lon': 8.468946}, {'name': 'Oman', 'gdp': 76983094928.0, 'life_expectancy': 77.6, 'density': 16.0, 'lat': 21.4735329, 'lon': 55.975413}, {'name': 'Pakistan', 'gdp': 304400000000.0, 'life_expectancy': 67.1, 'density': 287.0, 'lat': 30.375321, 'lon': 69.345116}, {'name': 'Palau', 'gdp': 283994900.0, 'life_expectancy': 69.1, 'density': 39.0, 'lat': 7.51498, 'lon': 134.58252}, {'name': 'Palestinian National Authority', 'gdp': 0.0, 'life_expectancy': 0.0, 'density': 847.0, 'lat': 31.952162, 'lon': 35.233154}, {'name': 'Panama', 'gdp': 66800800000.0, 'life_expectancy': 78.3, 'density': 58.0, 'lat': 8.537981, 'lon': -80.782127}, {'name': 'Papua New Guinea', 'gdp': 24969611435.0, 'life_expectancy': 64.3, 'density': 20.0, 'lat': -6.314993, 'lon': 143.95555}, {'name': 'Paraguay', 'gdp': 38145288940.0, 'life_expectancy': 74.1, 'density': 18.0, 'lat': -23.442503, 'lon': -58.443832}, {'name': 'Peru', 'gdp': 226848050820.0, 'life_expectancy': 76.5, 'density': 26.0, 'lat': -9.189967, 'lon': -75.015152}, {'name': 'Philippines', 'gdp': 376795508680.0, 'life_expectancy': 71.1, 'density': 368.0, 'lat': 12.879721, 'lon': 121.774017}, {'name': 'Poland', 'gdp': 592164400688.0, 'life_expectancy': 77.6, 'density': 124.0, 'lat': 51.919438, 'lon': 19.145136}, {'name': 'Portugal', 'gdp': 237686075635.0, 'life_expectancy': 81.3, 'density': 111.0, 'lat': 39.399872, 'lon': -8.224454}, {'name': 'Qatar', 'gdp': 183466208791.0, 'life_expectancy': 80.1, 'density': 248.0, 'lat': 25.354826, 'lon': 51.183884}, {'name': 'Romania', 'gdp': 250077444017.0, 'life_expectancy': 75.4, 'density': 84.0, 'lat': 45.943161, 'lon': 24.96676}, {'name': 'Russia', 'gdp': 1699876578871.0, 'life_expectancy': 72.7, 'density': 9.0, 'lat': 61.52401, 'lon': 105.318756}, {'name': 'Rwanda', 'gdp': 10122472590.0, 'life_expectancy': 68.7, 'density': 525.0, 'lat': -1.940278, 'lon': 29.873888}, {'name': 'Saint Kitts and Nevis', 'gdp': 1050992593.0, 'life_expectancy': 71.3, 'density': 205.0, 'lat': 17.357822, 'lon': -62.782998}, {'name': 'Saint Lucia', 'gdp': 2122450630.0, 'life_expectancy': 76.1, 'density': 301.0, 'lat': 13.909444, 'lon': -60.978893}, {'name': 'Saint Vincent and the Grenadines', 'gdp': 825385185.0, 'life_expectancy': 72.4, 'density': 284.0, 'lat': 12.984305, 'lon': -61.287228}, {'name': 'Samoa', 'gdp': 850655017.0, 'life_expectancy': 73.2, 'density': 70.0, 'lat': -13.759029, 'lon': -172.104629}, {'name': 'San Marino', 'gdp': 1637931034.0, 'life_expectancy': 85.4, 'density': 566.0, 'lat': 43.94236, 'lon': 12.457777}, {'name': 'S�����������', 'gdp': 429016605.0, 'life_expectancy': 70.2, 'density': 228.0, 'lat': 0.0, 'lon': 0.0}, {'name': 'Saudi Arabia', 'gdp': 792966838162.0, 'life_expectancy': 75.0, 'density': 16.0, 'lat': 23.885942, 'lon': 45.079162}, {'name': 'Senegal', 'gdp': 23578084052.0, 'life_expectancy': 67.7, 'density': 87.0, 'lat': 14.497401, 'lon': -14.452362}, {'name': 'Serbia', 'gdp': 51409167351.0, 'life_expectancy': 75.5, 'density': 100.0, 'lat': 44.016521, 'lon': 21.005859}, {'name': 'Seychelles', 'gdp': 1698843063.0, 'life_expectancy': 72.8, 'density': 214.0, 'lat': -4.679574, 'lon': 55.491977}, {'name': 'Sierra Leone', 'gdp': 3941474311.0, 'life_expectancy': 54.3, 'density': 111.0, 'lat': 8.460555, 'lon': -11.779889}, {'name': 'Singapore', 'gdp': 372062527489.0, 'life_expectancy': 83.1, 'density': 8358.0, 'lat': 1.352083, 'lon': 103.819836}, {'name': 'Slovakia', 'gdp': 105422304976.0, 'life_expectancy': 77.2, 'density': 114.0, 'lat': 48.669026, 'lon': 19.699024}, {'name': 'Slovenia', 'gdp': 53742159517.0, 'life_expectancy': 81.0, 'density': 103.0, 'lat': 46.151241, 'lon': 14.995463}, {'name': 'Solomon Islands', 'gdp': 1425074226.0, 'life_expectancy': 72.8, 'density': 25.0, 'lat': -9.64571, 'lon': 160.156194}, {'name': 'Somalia', 'gdp': 4720727278.0, 'life_expectancy': 57.1, 'density': 25.0, 'lat': 5.152149, 'lon': 46.199616}, {'name': 'South Africa', 'gdp': 351431649241.0, 'life_expectancy': 63.9, 'density': 49.0, 'lat': -30.559482, 'lon': 22.937506}, {'name': 'South Korea', 'gdp': 2029000000000.0, 'life_expectancy': 82.6, 'density': 527.0, 'lat': 35.907757, 'lon': 127.766922}, {'name': 'South Sudan', 'gdp': 11997800751.0, 'life_expectancy': 57.6, 'density': 18.0, 'lat': 6.8769919, 'lon': 31.3069788}, {'name': 'Spain', 'gdp': 1394116310769.0, 'life_expectancy': 83.3, 'density': 94.0, 'lat': 40.463667, 'lon': -3.74922}, {'name': 'Sri Lanka', 'gdp': 84008783756.0, 'life_expectancy': 76.8, 'density': 341.0, 'lat': 7.873054, 'lon': 80.771797}, {'name': 'Sudan', 'gdp': 18902284476.0, 'life_expectancy': 65.1, 'density': 25.0, 'lat': 12.862807, 'lon': 30.217636}, {'name': 'Suriname', 'gdp': 3985250737.0, 'life_expectancy': 71.6, 'density': 4.0, 'lat': 3.919305, 'lon': -56.027783}, {'name': 'Sweden', 'gdp': 530832908738.0, 'life_expectancy': 82.5, 'density': 25.0, 'lat': 60.128161, 'lon': 18.643501}, {'name': 'Switzerland', 'gdp': 703082435360.0, 'life_expectancy': 83.6, 'density': 219.0, 'lat': 46.818188, 'lon': 8.227512}, {'name': 'Syria', 'gdp': 40405006007.0, 'life_expectancy': 71.8, 'density': 95.0, 'lat': 34.802075, 'lon': 38.996815}, {'name': 'Tajikistan', 'gdp': 8116626794.0, 'life_expectancy': 70.9, 'density': 68.0, 'lat': 38.861034, 'lon': 71.276093}, {'name': 'Tanzania', 'gdp': 63177068175.0, 'life_expectancy': 65.0, 'density': 67.0, 'lat': -6.369028, 'lon': 34.888822}, {'name': 'Thailand', 'gdp': 543649976166.0, 'life_expectancy': 76.9, 'density': 137.0, 'lat': 15.870032, 'lon': 100.992541}, {'name': 'East Timor', 'gdp': 1673540300.0, 'life_expectancy': 69.3, 'density': 89.0, 'lat': -8.874217, 'lon': 125.727539}, {'name': 'Togo', 'gdp': 5459979417.0, 'life_expectancy': 60.8, 'density': 152.0, 'lat': 8.619543, 'lon': 0.824782}, {'name': 'Tonga', 'gdp': 450353314.0, 'life_expectancy': 70.8, 'density': 147.0, 'lat': -21.178986, 'lon': -175.198242}, {'name': 'Trinidad and Tobago', 'gdp': 24100202834.0, 'life_expectancy': 73.4, 'density': 273.0, 'lat': 10.691803, 'lon': -61.222503}, {'name': 'Tunisia', 'gdp': 38797709924.0, 'life_expectancy': 76.5, 'density': 76.0, 'lat': 33.886917, 'lon': 9.537499}, {'name': 'Turkey', 'gdp': 754411708203.0, 'life_expectancy': 77.4, 'density': 110.0, 'lat': 38.963745, 'lon': 35.243322}, {'name': 'Turkmenistan', 'gdp': 40761142857.0, 'life_expectancy': 68.1, 'density': 13.0, 'lat': 38.969719, 'lon': 59.556278}, {'name': 'Tuvalu', 'gdp': 47271463.0, 'life_expectancy': 0.0, 'density': 393.0, 'lat': -7.109535, 'lon': 177.64933}, {'name': 'Uganda', 'gdp': 34387229486.0, 'life_expectancy': 63.0, 'density': 229.0, 'lat': 1.373333, 'lon': 32.290275}, {'name': 'Ukraine', 'gdp': 153781069118.0, 'life_expectancy': 71.6, 'density': 75.0, 'lat': 48.379433, 'lon': 31.16558}, {'name': 'United Arab Emirates', 'gdp': 421142267938.0, 'life_expectancy': 77.8, 'density': 118.0, 'lat': 23.424076, 'lon': 53.847818}, {'name': 'United Kingdom', 'gdp': 2827113184696.0, 'life_expectancy': 81.3, 'density': 281.0, 'lat': 55.378051, 'lon': -3.435973}, {'name': 'United States', 'gdp': 21427700000000.0, 'life_expectancy': 78.5, 'density': 36.0, 'lat': 37.09024, 'lon': -95.712891}, {'name': 'Uruguay', 'gdp': 56045912952.0, 'life_expectancy': 77.8, 'density': 20.0, 'lat': -32.522779, 'lon': -55.765835}, {'name': 'Uzbekistan', 'gdp': 57921286440.0, 'life_expectancy': 71.6, 'density': 79.0, 'lat': 41.377491, 'lon': 64.585262}, {'name': 'Vanuatu', 'gdp': 917058851.0, 'life_expectancy': 70.3, 'density': 25.0, 'lat': -15.376706, 'lon': 166.959158}, {'name': 'Venezuela', 'gdp': 482359318768.0, 'life_expectancy': 72.1, 'density': 32.0, 'lat': 6.42375, 'lon': -66.58973}, {'name': 'Vietnam', 'gdp': 261921244843.0, 'life_expectancy': 75.3, 'density': 314.0, 'lat': 14.058324, 'lon': 108.277199}, {'name': 'Yemen', 'gdp': 26914402224.0, 'life_expectancy': 66.1, 'density': 56.0, 'lat': 15.552727, 'lon': 48.516388}, {'name': 'Zambia', 'gdp': 23064722446.0, 'life_expectancy': 63.5, 'density': 25.0, 'lat': -13.133897, 'lon': 27.849332}, {'name': 'Zimbabwe', 'gdp': 21440758800.0, 'life_expectancy': 61.2, 'density': 38.0, 'lat': -19.015438, 'lon': 29.154857}]\n",
      "[('United States', '$21,427,700,000,000.00'), ('China', '$19,910,000,000,000.00'), ('Japan', '$5,081,769,542,380.00'), ('Germany', '$3,845,630,030,824.00'), ('United Kingdom', '$2,827,113,184,696.00')]\n",
      "[('San Marino', 85.4), ('Japan', 84.2), ('Switzerland', 83.6), ('Spain', 83.3), ('Singapore', 83.1)]\n",
      "[('Monaco', 26337.0), ('Singapore', 8358.0), ('Bahrain', 2239.0), ('Vatican City', 2003.0), ('Maldives', 1802.0)]\n",
      "2025-04-26 01:24:59\n"
     ]
    },
    {
     "data": {
      "application/vnd.plotly.v1+json": {
       "config": {
        "plotlyServerURL": "https://plot.ly"
       },
       "data": [
        {
         "geo": "geo",
         "hovertemplate": "<b>%{hovertext}</b><br><br>lat=%{lat}<br>lon=%{lon}<extra></extra>",
         "hovertext": [
          "Afghanistan",
          "Albania",
          "Algeria",
          "Andorra",
          "Angola",
          "Antigua and Barbuda",
          "Argentina",
          "Armenia",
          "Australia",
          "Austria",
          "Azerbaijan",
          "The Bahamas",
          "Bahrain",
          "Bangladesh",
          "Barbados",
          "Belarus",
          "Belgium",
          "Belize",
          "Benin",
          "Bhutan",
          "Bolivia",
          "Bosnia and Herzegovina",
          "Botswana",
          "Brazil",
          "Brunei",
          "Bulgaria",
          "Burkina Faso",
          "Burundi",
          "Ivory Coast",
          "Cape Verde",
          "Cambodia",
          "Cameroon",
          "Canada",
          "Central African Republic",
          "Chad",
          "Chile",
          "China",
          "Colombia",
          "Comoros",
          "Republic of the Congo",
          "Costa Rica",
          "Croatia",
          "Cuba",
          "Cyprus",
          "Czech Republic",
          "Democratic Republic of the Congo",
          "Denmark",
          "Djibouti",
          "Dominica",
          "Dominican Republic",
          "Ecuador",
          "Egypt",
          "El Salvador",
          "Equatorial Guinea",
          "Eritrea",
          "Estonia",
          "Eswatini",
          "Ethiopia",
          "Fiji",
          "Finland",
          "France",
          "Gabon",
          "The Gambia",
          "Georgia",
          "Germany",
          "Ghana",
          "Greece",
          "Grenada",
          "Guatemala",
          "Guinea",
          "Guinea-Bissau",
          "Guyana",
          "Haiti",
          "Vatican City",
          "Honduras",
          "Hungary",
          "Iceland",
          "India",
          "Indonesia",
          "Iran",
          "Iraq",
          "Republic of Ireland",
          "Israel",
          "Italy",
          "Jamaica",
          "Japan",
          "Jordan",
          "Kazakhstan",
          "Kenya",
          "Kiribati",
          "Kuwait",
          "Kyrgyzstan",
          "Laos",
          "Latvia",
          "Lebanon",
          "Lesotho",
          "Liberia",
          "Libya",
          "Liechtenstein",
          "Lithuania",
          "Luxembourg",
          "Madagascar",
          "Malawi",
          "Malaysia",
          "Maldives",
          "Mali",
          "Malta",
          "Marshall Islands",
          "Mauritania",
          "Mauritius",
          "Mexico",
          "Federated States of Micronesia",
          "Moldova",
          "Monaco",
          "Mongolia",
          "Montenegro",
          "Morocco",
          "Mozambique",
          "Myanmar",
          "Namibia",
          "Nauru",
          "Nepal",
          "Netherlands",
          "New Zealand",
          "Nicaragua",
          "Niger",
          "Nigeria",
          "North Korea",
          "North Macedonia",
          "Norway",
          "Oman",
          "Pakistan",
          "Palau",
          "Palestinian National Authority",
          "Panama",
          "Papua New Guinea",
          "Paraguay",
          "Peru",
          "Philippines",
          "Poland",
          "Portugal",
          "Qatar",
          "Romania",
          "Russia",
          "Rwanda",
          "Saint Kitts and Nevis",
          "Saint Lucia",
          "Saint Vincent and the Grenadines",
          "Samoa",
          "San Marino",
          "S�����������",
          "Saudi Arabia",
          "Senegal",
          "Serbia",
          "Seychelles",
          "Sierra Leone",
          "Singapore",
          "Slovakia",
          "Slovenia",
          "Solomon Islands",
          "Somalia",
          "South Africa",
          "South Korea",
          "South Sudan",
          "Spain",
          "Sri Lanka",
          "Sudan",
          "Suriname",
          "Sweden",
          "Switzerland",
          "Syria",
          "Tajikistan",
          "Tanzania",
          "Thailand",
          "East Timor",
          "Togo",
          "Tonga",
          "Trinidad and Tobago",
          "Tunisia",
          "Turkey",
          "Turkmenistan",
          "Tuvalu",
          "Uganda",
          "Ukraine",
          "United Arab Emirates",
          "United Kingdom",
          "United States",
          "Uruguay",
          "Uzbekistan",
          "Vanuatu",
          "Venezuela",
          "Vietnam",
          "Yemen",
          "Zambia",
          "Zimbabwe"
         ],
         "lat": {
          "bdata": "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",
          "dtype": "f8"
         },
         "legendgroup": "",
         "lon": {
          "bdata": "nSy13m/tUEAp54u9Fys0QPN1Gf7Tjfo/UFJgAUxZ+D9JZvUOt98xQDHPSlrx5U7A8S2sG+/OT8CSCI1g44RGQHk+A+rNuGBAAOSECaMZLUD2lnK+2MlHQMUDyqZcWVPAVn2utmJHSUBD44kgzpZWQFWgFoOHxU3AvF0vTRH0O0Ar2hznNuERQK62Yn/ZH1bAC7jn+dOGAkDToGgewJtWQJ3YQ/tYy0/AnX+77NetMUBwJNBgU684QErSNZNv9knACVT/IJKuXEBqatlaX3w5QLeZCvFI/Pi/lMDmHDzrPUDHLlG9NTAWwAn5oGezCjfA8iIT8Gs/WkDrVzofnrUoQOEM/n4xllrAZmzoZn/wNED75v7qcbsyQHpvDAHA4lHAIy9rYoEMWkBhwf2AB5NSwN/gC5OpqkVA6nqi68KnL0AB+RIqOPBUwGZmZmZmZi5AuW3fo/5xU8AVcqWeBbdAQGOARBMo8i5ADafMzTfCNUApP6n26QAjQL1SliGOS0VA6sw9JHyvTsBZar3faIpRwPn4hOy8i1PA/BpJgnDNPkCBeF2/YDlWwBqGj4gpiSRAQUZAhSPkQ0Am/5O/ewM5QH5Rgv5Cdz9A+13Ymq0+REAxJv29FEJmQD547dKGvzlA8GskCcK1AUCifEELCTgnQKRt/InKni7AHhoWo66tRUBflnZqLuckQC9q96sAX/C/SrN5HAbTNUD0/dR46dZOwH6QZcHEjlbABthHp65kI8Dni70XX1wuwFeyYyMQd03ACFVq9kASUsB3u16aIugoQErvG197j1XALPLrh9iAM0C3nEtxVQUzwD1+b9OfvVNA/3qFBfd6XEBiEi7kEdhKQMu76gHz1kVAlKRrJt98IMDKcDyfAW1BQBjPoKF/IilAGJP+XgpTU8D0ixL0F0hhQEt0llmEHkJAqfV+ox27UECcbtkh/vNCQBNzWgEPrGPAkSkfgqq9R0D84ee/B7FSQCDT2jS2n1lAlE4kmGqaOEBqatlaX+5BQH8V4LvNOzxAVFT9SufbIsC5qYHmczoxQPuuCP63CiNAS8gHPZvhN0BkeOxnsYQYQMLc7uU+b0dAlPYGX5gmQUAeozzzcn5ZQGe4AZ8fTlJA2xg74SX4D8BPyqSGNsAsQJwaaD7nZWVARN0HILXhJcDjNa/qrMZMQCJwJNBgo1nA0sd8QKDRYkDtR4rIsF48QKJ1+XvOsh1AlL2lnC/2WUAO8+UF2F8zQHTS+8bXXhzAKJoHsMjDQUDidJKtLv1XQKGhf4KLfTJAByRh387dZEBQHEC/7wdVQDi/YaJBKhVAi8ba31ncZUAZcmw9Q01VwOljPiDQKSBAY3st6L1ZIUDJOhxdpeBfQMKGp1fKvjVAFy6rsBnwIEDwi0tV2vxLQONUa2EWVlFAgqj7AKTSYEA+d4L9151BQGSUZ14OMlTAK/aX3ZP+YUCKdap8zzhNwAQeGED4wFLAE2OZfolxXkDmeAWiJyUzQKvpeqLrciDA+yDLgomXSUC6FFeVffc4QNfZkH9mVFpA6l28H7ffPUCtaklHOWRPwESkpl1MfU7AbD8Z48OkTsDSpuoeWYNlwNS4N79h6ihAAAAAAAAAAAAAi/z6IYpGQATo9/2b5yzAJGO1+X8BNUAtsTIa+b5LQDIFa5xNjyfAVwVqMXj0WUB+HqM887IzQJDBilOt/S1AmzqPiv8EZEAR4V8EjRlHQMTNqWQA8DZATiUDQBXxX0C5kKIplk4/QK4SLA5n/g3AqYk+H2UxVECobi7+tjc+QEAxsmSOA0zAfPFFe7ykMkAm5e5zfHQgQMSUSKKXf0NA5Gn5gavRUUCP+1brxHFBQBu8r8qFP1lAIeS8/49uX0AJi4o4nWTqPzJWm/9X5mXAhiFy+nqcTsDyQ6URMxMjQNsy4Cwln0FA/b0UHjTHTUD5SbVPxzRmQFfsL7snJUBAJt9sc2MqP0DlettMhexKQBeDh2nffAvAN6eSAaDtV8DrkJvhBuJLwNxlv+50JVBATDYebLHeZEAW3uUivqVQwPje36C9EVtA/wWCABlCSEA/cmvSbdk7QIKOVrWkJz1A",
          "dtype": "f8"
         },
         "marker": {
          "color": "#636efa",
          "symbol": "circle"
         },
         "mode": "markers",
         "name": "",
         "showlegend": false,
         "type": "scattergeo"
        }
       ],
       "layout": {
        "geo": {
         "center": {},
         "domain": {
          "x": [
           0,
           1
          ],
          "y": [
           0,
           1
          ]
         }
        },
        "legend": {
         "tracegroupgap": 0
        },
        "template": {
         "data": {
          "bar": [
           {
            "error_x": {
             "color": "#2a3f5f"
            },
            "error_y": {
             "color": "#2a3f5f"
            },
            "marker": {
             "line": {
              "color": "#E5ECF6",
              "width": 0.5
             },
             "pattern": {
              "fillmode": "overlay",
              "size": 10,
              "solidity": 0.2
             }
            },
            "type": "bar"
           }
          ],
          "barpolar": [
           {
            "marker": {
             "line": {
              "color": "#E5ECF6",
              "width": 0.5
             },
             "pattern": {
              "fillmode": "overlay",
              "size": 10,
              "solidity": 0.2
             }
            },
            "type": "barpolar"
           }
          ],
          "carpet": [
           {
            "aaxis": {
             "endlinecolor": "#2a3f5f",
             "gridcolor": "white",
             "linecolor": "white",
             "minorgridcolor": "white",
             "startlinecolor": "#2a3f5f"
            },
            "baxis": {
             "endlinecolor": "#2a3f5f",
             "gridcolor": "white",
             "linecolor": "white",
             "minorgridcolor": "white",
             "startlinecolor": "#2a3f5f"
            },
            "type": "carpet"
           }
          ],
          "choropleth": [
           {
            "colorbar": {
             "outlinewidth": 0,
             "ticks": ""
            },
            "type": "choropleth"
           }
          ],
          "contour": [
           {
            "colorbar": {
             "outlinewidth": 0,
             "ticks": ""
            },
            "colorscale": [
             [
              0,
              "#0d0887"
             ],
             [
              0.1111111111111111,
              "#46039f"
             ],
             [
              0.2222222222222222,
              "#7201a8"
             ],
             [
              0.3333333333333333,
              "#9c179e"
             ],
             [
              0.4444444444444444,
              "#bd3786"
             ],
             [
              0.5555555555555556,
              "#d8576b"
             ],
             [
              0.6666666666666666,
              "#ed7953"
             ],
             [
              0.7777777777777778,
              "#fb9f3a"
             ],
             [
              0.8888888888888888,
              "#fdca26"
             ],
             [
              1,
              "#f0f921"
             ]
            ],
            "type": "contour"
           }
          ],
          "contourcarpet": [
           {
            "colorbar": {
             "outlinewidth": 0,
             "ticks": ""
            },
            "type": "contourcarpet"
           }
          ],
          "heatmap": [
           {
            "colorbar": {
             "outlinewidth": 0,
             "ticks": ""
            },
            "colorscale": [
             [
              0,
              "#0d0887"
             ],
             [
              0.1111111111111111,
              "#46039f"
             ],
             [
              0.2222222222222222,
              "#7201a8"
             ],
             [
              0.3333333333333333,
              "#9c179e"
             ],
             [
              0.4444444444444444,
              "#bd3786"
             ],
             [
              0.5555555555555556,
              "#d8576b"
             ],
             [
              0.6666666666666666,
              "#ed7953"
             ],
             [
              0.7777777777777778,
              "#fb9f3a"
             ],
             [
              0.8888888888888888,
              "#fdca26"
             ],
             [
              1,
              "#f0f921"
             ]
            ],
            "type": "heatmap"
           }
          ],
          "histogram": [
           {
            "marker": {
             "pattern": {
              "fillmode": "overlay",
              "size": 10,
              "solidity": 0.2
             }
            },
            "type": "histogram"
           }
          ],
          "histogram2d": [
           {
            "colorbar": {
             "outlinewidth": 0,
             "ticks": ""
            },
            "colorscale": [
             [
              0,
              "#0d0887"
             ],
             [
              0.1111111111111111,
              "#46039f"
             ],
             [
              0.2222222222222222,
              "#7201a8"
             ],
             [
              0.3333333333333333,
              "#9c179e"
             ],
             [
              0.4444444444444444,
              "#bd3786"
             ],
             [
              0.5555555555555556,
              "#d8576b"
             ],
             [
              0.6666666666666666,
              "#ed7953"
             ],
             [
              0.7777777777777778,
              "#fb9f3a"
             ],
             [
              0.8888888888888888,
              "#fdca26"
             ],
             [
              1,
              "#f0f921"
             ]
            ],
            "type": "histogram2d"
           }
          ],
          "histogram2dcontour": [
           {
            "colorbar": {
             "outlinewidth": 0,
             "ticks": ""
            },
            "colorscale": [
             [
              0,
              "#0d0887"
             ],
             [
              0.1111111111111111,
              "#46039f"
             ],
             [
              0.2222222222222222,
              "#7201a8"
             ],
             [
              0.3333333333333333,
              "#9c179e"
             ],
             [
              0.4444444444444444,
              "#bd3786"
             ],
             [
              0.5555555555555556,
              "#d8576b"
             ],
             [
              0.6666666666666666,
              "#ed7953"
             ],
             [
              0.7777777777777778,
              "#fb9f3a"
             ],
             [
              0.8888888888888888,
              "#fdca26"
             ],
             [
              1,
              "#f0f921"
             ]
            ],
            "type": "histogram2dcontour"
           }
          ],
          "mesh3d": [
           {
            "colorbar": {
             "outlinewidth": 0,
             "ticks": ""
            },
            "type": "mesh3d"
           }
          ],
          "parcoords": [
           {
            "line": {
             "colorbar": {
              "outlinewidth": 0,
              "ticks": ""
             }
            },
            "type": "parcoords"
           }
          ],
          "pie": [
           {
            "automargin": true,
            "type": "pie"
           }
          ],
          "scatter": [
           {
            "fillpattern": {
             "fillmode": "overlay",
             "size": 10,
             "solidity": 0.2
            },
            "type": "scatter"
           }
          ],
          "scatter3d": [
           {
            "line": {
             "colorbar": {
              "outlinewidth": 0,
              "ticks": ""
             }
            },
            "marker": {
             "colorbar": {
              "outlinewidth": 0,
              "ticks": ""
             }
            },
            "type": "scatter3d"
           }
          ],
          "scattercarpet": [
           {
            "marker": {
             "colorbar": {
              "outlinewidth": 0,
              "ticks": ""
             }
            },
            "type": "scattercarpet"
           }
          ],
          "scattergeo": [
           {
            "marker": {
             "colorbar": {
              "outlinewidth": 0,
              "ticks": ""
             }
            },
            "type": "scattergeo"
           }
          ],
          "scattergl": [
           {
            "marker": {
             "colorbar": {
              "outlinewidth": 0,
              "ticks": ""
             }
            },
            "type": "scattergl"
           }
          ],
          "scattermap": [
           {
            "marker": {
             "colorbar": {
              "outlinewidth": 0,
              "ticks": ""
             }
            },
            "type": "scattermap"
           }
          ],
          "scattermapbox": [
           {
            "marker": {
             "colorbar": {
              "outlinewidth": 0,
              "ticks": ""
             }
            },
            "type": "scattermapbox"
           }
          ],
          "scatterpolar": [
           {
            "marker": {
             "colorbar": {
              "outlinewidth": 0,
              "ticks": ""
             }
            },
            "type": "scatterpolar"
           }
          ],
          "scatterpolargl": [
           {
            "marker": {
             "colorbar": {
              "outlinewidth": 0,
              "ticks": ""
             }
            },
            "type": "scatterpolargl"
           }
          ],
          "scatterternary": [
           {
            "marker": {
             "colorbar": {
              "outlinewidth": 0,
              "ticks": ""
             }
            },
            "type": "scatterternary"
           }
          ],
          "surface": [
           {
            "colorbar": {
             "outlinewidth": 0,
             "ticks": ""
            },
            "colorscale": [
             [
              0,
              "#0d0887"
             ],
             [
              0.1111111111111111,
              "#46039f"
             ],
             [
              0.2222222222222222,
              "#7201a8"
             ],
             [
              0.3333333333333333,
              "#9c179e"
             ],
             [
              0.4444444444444444,
              "#bd3786"
             ],
             [
              0.5555555555555556,
              "#d8576b"
             ],
             [
              0.6666666666666666,
              "#ed7953"
             ],
             [
              0.7777777777777778,
              "#fb9f3a"
             ],
             [
              0.8888888888888888,
              "#fdca26"
             ],
             [
              1,
              "#f0f921"
             ]
            ],
            "type": "surface"
           }
          ],
          "table": [
           {
            "cells": {
             "fill": {
              "color": "#EBF0F8"
             },
             "line": {
              "color": "white"
             }
            },
            "header": {
             "fill": {
              "color": "#C8D4E3"
             },
             "line": {
              "color": "white"
             }
            },
            "type": "table"
           }
          ]
         },
         "layout": {
          "annotationdefaults": {
           "arrowcolor": "#2a3f5f",
           "arrowhead": 0,
           "arrowwidth": 1
          },
          "autotypenumbers": "strict",
          "coloraxis": {
           "colorbar": {
            "outlinewidth": 0,
            "ticks": ""
           }
          },
          "colorscale": {
           "diverging": [
            [
             0,
             "#8e0152"
            ],
            [
             0.1,
             "#c51b7d"
            ],
            [
             0.2,
             "#de77ae"
            ],
            [
             0.3,
             "#f1b6da"
            ],
            [
             0.4,
             "#fde0ef"
            ],
            [
             0.5,
             "#f7f7f7"
            ],
            [
             0.6,
             "#e6f5d0"
            ],
            [
             0.7,
             "#b8e186"
            ],
            [
             0.8,
             "#7fbc41"
            ],
            [
             0.9,
             "#4d9221"
            ],
            [
             1,
             "#276419"
            ]
           ],
           "sequential": [
            [
             0,
             "#0d0887"
            ],
            [
             0.1111111111111111,
             "#46039f"
            ],
            [
             0.2222222222222222,
             "#7201a8"
            ],
            [
             0.3333333333333333,
             "#9c179e"
            ],
            [
             0.4444444444444444,
             "#bd3786"
            ],
            [
             0.5555555555555556,
             "#d8576b"
            ],
            [
             0.6666666666666666,
             "#ed7953"
            ],
            [
             0.7777777777777778,
             "#fb9f3a"
            ],
            [
             0.8888888888888888,
             "#fdca26"
            ],
            [
             1,
             "#f0f921"
            ]
           ],
           "sequentialminus": [
            [
             0,
             "#0d0887"
            ],
            [
             0.1111111111111111,
             "#46039f"
            ],
            [
             0.2222222222222222,
             "#7201a8"
            ],
            [
             0.3333333333333333,
             "#9c179e"
            ],
            [
             0.4444444444444444,
             "#bd3786"
            ],
            [
             0.5555555555555556,
             "#d8576b"
            ],
            [
             0.6666666666666666,
             "#ed7953"
            ],
            [
             0.7777777777777778,
             "#fb9f3a"
            ],
            [
             0.8888888888888888,
             "#fdca26"
            ],
            [
             1,
             "#f0f921"
            ]
           ]
          },
          "colorway": [
           "#636efa",
           "#EF553B",
           "#00cc96",
           "#ab63fa",
           "#FFA15A",
           "#19d3f3",
           "#FF6692",
           "#B6E880",
           "#FF97FF",
           "#FECB52"
          ],
          "font": {
           "color": "#2a3f5f"
          },
          "geo": {
           "bgcolor": "white",
           "lakecolor": "white",
           "landcolor": "#E5ECF6",
           "showlakes": true,
           "showland": true,
           "subunitcolor": "white"
          },
          "hoverlabel": {
           "align": "left"
          },
          "hovermode": "closest",
          "mapbox": {
           "style": "light"
          },
          "paper_bgcolor": "white",
          "plot_bgcolor": "#E5ECF6",
          "polar": {
           "angularaxis": {
            "gridcolor": "white",
            "linecolor": "white",
            "ticks": ""
           },
           "bgcolor": "#E5ECF6",
           "radialaxis": {
            "gridcolor": "white",
            "linecolor": "white",
            "ticks": ""
           }
          },
          "scene": {
           "xaxis": {
            "backgroundcolor": "#E5ECF6",
            "gridcolor": "white",
            "gridwidth": 2,
            "linecolor": "white",
            "showbackground": true,
            "ticks": "",
            "zerolinecolor": "white"
           },
           "yaxis": {
            "backgroundcolor": "#E5ECF6",
            "gridcolor": "white",
            "gridwidth": 2,
            "linecolor": "white",
            "showbackground": true,
            "ticks": "",
            "zerolinecolor": "white"
           },
           "zaxis": {
            "backgroundcolor": "#E5ECF6",
            "gridcolor": "white",
            "gridwidth": 2,
            "linecolor": "white",
            "showbackground": true,
            "ticks": "",
            "zerolinecolor": "white"
           }
          },
          "shapedefaults": {
           "line": {
            "color": "#2a3f5f"
           }
          },
          "ternary": {
           "aaxis": {
            "gridcolor": "white",
            "linecolor": "white",
            "ticks": ""
           },
           "baxis": {
            "gridcolor": "white",
            "linecolor": "white",
            "ticks": ""
           },
           "bgcolor": "#E5ECF6",
           "caxis": {
            "gridcolor": "white",
            "linecolor": "white",
            "ticks": ""
           }
          },
          "title": {
           "x": 0.05
          },
          "xaxis": {
           "automargin": true,
           "gridcolor": "white",
           "linecolor": "white",
           "ticks": "",
           "title": {
            "standoff": 15
           },
           "zerolinecolor": "white",
           "zerolinewidth": 2
          },
          "yaxis": {
           "automargin": true,
           "gridcolor": "white",
           "linecolor": "white",
           "ticks": "",
           "title": {
            "standoff": 15
           },
           "zerolinecolor": "white",
           "zerolinewidth": 2
          }
         }
        },
        "title": {
         "text": "World Country Geo Scatter"
        }
       }
      }
     },
     "metadata": {},
     "output_type": "display_data"
    }
   ],
   "source": [
    "import csv\n",
    "from dataclasses import dataclass\n",
    "import pandas as pd\n",
    "import plotly.express as px\n",
    "import time\n",
    "import datetime as dt\n",
    "\n",
    "\n",
    "@dataclass\n",
    "class Country:\n",
    "    name: str\n",
    "    gdp: float\n",
    "    life_expectancy: float\n",
    "    density: float\n",
    "    lat: float\n",
    "    lon: float\n",
    "\n",
    "\n",
    "class CountryStatistics:\n",
    "    def __init__(self):\n",
    "        self.countries = []\n",
    "        self.load_time = None\n",
    "\n",
    "    def clean_numeric_data(self, value: str):\n",
    "        try:\n",
    "            value = value.replace(\",\", \"\").replace(\"$\", \"\").replace(\"%\", \"\")\n",
    "            return float(value)\n",
    "        except:\n",
    "            return 0.0\n",
    "\n",
    "    def load_data(self, filename: str):\n",
    "        with open(filename, encoding=\"UTF-8\") as file:\n",
    "            reader = csv.reader(file)\n",
    "            header_row = next(reader)\n",
    "            for row in reader:\n",
    "                Country = {\n",
    "                    \"name\": row[0],\n",
    "                    \"gdp\": self.clean_numeric_data(row[16]),\n",
    "                    \"life_expectancy\": self.clean_numeric_data(row[21]),\n",
    "                    \"density\": self.clean_numeric_data(row[1]),\n",
    "                    \"lat\": self.clean_numeric_data(row[33]),\n",
    "                    \"lon\": self.clean_numeric_data(row[34]),\n",
    "                }\n",
    "                self.countries.append(Country)\n",
    "        self.load_time = time.time()\n",
    "        return self.countries\n",
    "\n",
    "    def top_5_gdp(self):\n",
    "        top_countries = sorted(self.countries, key=lambda x: x[\"gdp\"], reverse=True)[:5]\n",
    "        return [\n",
    "            (country[\"name\"], f\"${country['gdp']:,.2f}\") for country in top_countries\n",
    "        ]\n",
    "\n",
    "    def top_5_life_expectancy(self):\n",
    "        top_countries = sorted(\n",
    "            self.countries, key=lambda x: x[\"life_expectancy\"], reverse=True\n",
    "        )[:5]\n",
    "        return [\n",
    "            (country[\"name\"], country[\"life_expectancy\"]) for country in top_countries\n",
    "        ]\n",
    "\n",
    "    def countries_by_density(self):\n",
    "        top_countries = sorted(\n",
    "            self.countries, key=lambda x: x[\"density\"], reverse=True\n",
    "        )[:5]\n",
    "        return [(country[\"name\"], country[\"density\"]) for country in top_countries]\n",
    "\n",
    "    def get_data_load_time(self, format_str=None):\n",
    "        if self.load_time == None:\n",
    "            return None\n",
    "        if format_str:\n",
    "            return dt.datetime.fromtimestamp(self.load_time).strftime(format_str)\n",
    "\n",
    "    def plot_geo_scatter(self):\n",
    "        fig = px.scatter_geo(\n",
    "            self.countries,\n",
    "            lat=\"lat\",\n",
    "            lon=\"lon\",\n",
    "            hover_name=\"name\",  # 마우스 올리면 국가명 표시\n",
    "            title=\"World Country Geo Scatter\",\n",
    "        )\n",
    "        fig.show()\n",
    "\n",
    "\n",
    "c = CountryStatistics()\n",
    "print(c.load_data(\"world-data-2023.csv\"))\n",
    "print(c.top_5_gdp())\n",
    "print(c.top_5_life_expectancy())\n",
    "print(c.countries_by_density())\n",
    "print(c.get_data_load_time(\"%Y-%m-%d %H:%M:%S\"))\n",
    "c.plot_geo_scatter()"
   ]
  }
 ],
 "metadata": {
  "kernelspec": {
   "display_name": "Python 3",
   "language": "python",
   "name": "python3"
  },
  "language_info": {
   "codemirror_mode": {
    "name": "ipython",
    "version": 3
   },
   "file_extension": ".py",
   "mimetype": "text/x-python",
   "name": "python",
   "nbconvert_exporter": "python",
   "pygments_lexer": "ipython3",
   "version": "3.9.13"
  }
 },
 "nbformat": 4,
 "nbformat_minor": 5
}
