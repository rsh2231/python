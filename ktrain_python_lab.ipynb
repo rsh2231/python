{
  "cells": [
    {
      "cell_type": "markdown",
      "metadata": {
        "id": "ZYJeA4fpcGNk"
      },
      "source": [
        "# Lab"
      ]
    },
    {
      "cell_type": "markdown",
      "metadata": {
        "id": "AL3MoBZO5NpL"
      },
      "source": [
        "## 1. 정수 n을 입력받아 짝수인지 홀수인지 판단하는 함수를 작성하세요.\n",
        "\n",
        "\n"
      ]
    },
    {
      "cell_type": "code",
      "execution_count": null,
      "metadata": {
        "id": "SBUQ1WRTc1Nz"
      },
      "outputs": [],
      "source": [
        "def is_even_or_odd(n: int) -> str:\n",
        "    if n % 2 == 0:\n",
        "        return \"Even\"\n",
        "    else:\n",
        "        return \"Odd\"\n",
        "\n",
        "\n",
        "\n",
        "input_data_even_odd = [5, 2, -3, -4, 0]\n",
        "\n",
        "\n",
        "output_data_even_odd = [\"Odd\", \"Even\", \"Odd\", \"Even\", \"Even\"]\n",
        "for i, o in zip(input_data_even_odd, output_data_even_odd):\n",
        "    assert is_even_or_odd(i) == o\n",
        "\n",
        "\n",
        "    # print(is_even_or_odd(i), o)"
      ]
    },
    {
      "cell_type": "markdown",
      "metadata": {
        "id": "mGbPfQJEc5pl"
      },
      "source": [
        "## 2. 세 개의 정수 a, b, c를 입력받아 가장 큰 수를 반환하는 함수를 작성하세요."
      ]
    },
    {
      "cell_type": "code",
      "execution_count": null,
      "metadata": {
        "id": "mGAC-9rSc7Qd"
      },
      "outputs": [],
      "source": [
        "def largest_of_three(a: int, b: int, c: int) -> int:\n",
        "    # implement your code\n",
        "    return max(a, b, c)\n",
        "\n",
        "\n",
        "input_data_largest_of_three = [(2, 4, 1), (1, 1, 1), (2, 2, 5), (-1, 0, -2)]\n",
        "output_data_largest_of_three = [4, 1, 5, 0]\n",
        "\n",
        "for i, o in zip(input_data_largest_of_three, output_data_largest_of_three):\n",
        "    assert largest_of_three(*i) == o"
      ]
    },
    {
      "cell_type": "markdown",
      "metadata": {
        "id": "INqFk2K5c7ks"
      },
      "source": [
        "## 3. 정수 n을 입력받아 3의 배수이면서 동시에 5의 배수인지 여부를 판단하는 함수를 작성하세요.\n",
        "\n"
      ]
    },
    {
      "cell_type": "code",
      "execution_count": 25,
      "metadata": {
        "id": "B2c46qWfc8z0"
      },
      "outputs": [],
      "source": [
        "def is_multiple_of_3_and_5(n: int) -> bool:\n",
        "    # implement your code\n",
        "    if n % 3 == 0 and n % 5 == 0:\n",
        "        return True\n",
        "    else:\n",
        "        return False\n",
        "\n",
        "\n",
        "input_data_multiple_3_5 = [15, 3, 5, 30, 0, -15]\n",
        "output_data_multiple_3_5 = [True, False, False, True, True, True]\n",
        "\n",
        "for input_value, output_value in zip(input_data_multiple_3_5, output_data_multiple_3_5):\n",
        "    assert is_multiple_of_3_and_5(input_value) == output_value"
      ]
    },
    {
      "cell_type": "markdown",
      "metadata": {
        "id": "jAEoPcBXc9kM"
      },
      "source": [
        "## 4. 세 정수 a, b, c를 입력받아 피타고라스 정리(직각삼각형의 성립 조건: a² + b² = c²)를 만족하는지 확인하는 함수를 작성하세요. (단, a<=b<=c)"
      ]
    },
    {
      "cell_type": "code",
      "execution_count": null,
      "metadata": {
        "id": "nJN7nZ1Nc-ad"
      },
      "outputs": [],
      "source": [
        "def is_pythagorean_triple(a: int, b: int, c: int) -> bool:\n",
        "    # implement your code\n",
        "    if 0 in (a, b, c):\n",
        "        return False\n",
        "\n",
        "    if a**2 + b**2 == c**2:\n",
        "        return True\n",
        "    else:\n",
        "        return False\n",
        "\n",
        "\n",
        "input_data_pythagorean_triple = [\n",
        "    (3, 4, 5),\n",
        "    (5, 12, 13),\n",
        "    (6, 8, 10),\n",
        "    (7, 24, 25),\n",
        "    (2, 3, 4),\n",
        "    (0, 4, 4),\n",
        "]\n",
        "output_data_pythagorean_triple = [True, True, True, True, False, False]\n",
        "\n",
        "for input_values, output_value in zip(\n",
        "    input_data_pythagorean_triple, output_data_pythagorean_triple\n",
        "):\n",
        "    assert is_pythagorean_triple(*input_values) == output_value"
      ]
    },
    {
      "cell_type": "markdown",
      "metadata": {
        "id": "EkRNBCyLctUY"
      },
      "source": [
        "## 5. 사용자로부터 몸무게(kg)와 키(m)를 입력받아 BMI를 계산하고, 해당하는 BMI 카테고리를 반환하는 함수를 작성하세요.\n",
        "\n",
        "* BMI 계산 공식: BMI = 몸무게(kg) / (키(m)²)\n",
        "\n",
        "### output\n",
        "* BMI < 18.5 : underweight\n",
        "* 18.5 <= BMI < 24.9 normal weight\n",
        "* 25.0 <= BMI overweight"
      ]
    },
    {
      "cell_type": "code",
      "execution_count": null,
      "metadata": {
        "id": "BxdeHEF_cB3C"
      },
      "outputs": [],
      "source": [
        "def calculate_bmi(weight: float, height: float) -> str:\n",
        "    # implement your\n",
        "    if height == 0:\n",
        "        return \"Invalid input\"\n",
        "\n",
        "    BMI = weight / height**2\n",
        "\n",
        "    if BMI < 18.5:\n",
        "        return \"Underweight\"\n",
        "    elif 18.5 <= BMI < 24.9:\n",
        "        return \"Normal weight\"\n",
        "    else:\n",
        "        return \"Overweight\"\n",
        "\n",
        "\n",
        "input_data_bmi_calculator = [\n",
        "    (60, 1.7),\n",
        "    (45, 1.6),\n",
        "    (85, 1.8),\n",
        "    (100, 2),\n",
        "    (0, 1.5),\n",
        "    (60, 0),\n",
        "]\n",
        "output_data_bmi_calculator = [\n",
        "    \"Normal weight\",\n",
        "    \"Underweight\",\n",
        "    \"Overweight\",\n",
        "    \"Overweight\",\n",
        "    \"Underweight\",\n",
        "    \"Invalid input\",\n",
        "]\n",
        "\n",
        "for input_values, output_value in zip(\n",
        "    input_data_bmi_calculator, output_data_bmi_calculator\n",
        "):\n",
        "    assert calculate_bmi(*input_values) == output_value"
      ]
    },
    {
      "cell_type": "markdown",
      "metadata": {
        "id": "tdJa-fe6Lu_N"
      },
      "source": [
        "## 6. 문자열 s를 입력받아, 그 문자열이 회문인지 여부를 확인하는 함수를 작성하세요.\n",
        "\n",
        "> 회문(Palindrome)은 앞뒤가 똑같이 읽히는 문자열을 의미합니다. 예를 들어, \"racecar\"나 \"madam\"은 회문이지만, \"hello\"나 \"world\"는 아닙니다."
      ]
    },
    {
      "cell_type": "code",
      "execution_count": null,
      "metadata": {
        "id": "4CuQ-rftL-3y"
      },
      "outputs": [],
      "source": [
        "def is_palindrome(s: str) -> bool:\n",
        "    # implement your code\n",
        "    reversed = s[::-1]\n",
        "    if s == reversed:\n",
        "        return True\n",
        "    else:\n",
        "        return False\n",
        "\n",
        "\n",
        "input_data_palindrome_checker = [\n",
        "    \"racecar\",\n",
        "    \"madam\",\n",
        "    \"hello\",\n",
        "    \"level\",\n",
        "    \"world\",\n",
        "    \"noon\",\n",
        "    \"python\",\n",
        "]\n",
        "output_data_palindrome_checker = [True, True, False, True, False, True, False]\n",
        "for input_value, output_value in zip(\n",
        "    input_data_palindrome_checker, output_data_palindrome_checker\n",
        "):\n",
        "    assert is_palindrome(input_value) == output_value"
      ]
    },
    {
      "cell_type": "markdown",
      "metadata": {
        "id": "dI9p5_rNec8G"
      },
      "source": [
        "## 7. 주어진 정수 limit와 divisor를 입력받아, 1부터 limit 사이의 숫자 중 divisor의 배수의 합을 반환하는 함수를 작성하세요. 이때, while 반복문을 사용하세요.\n"
      ]
    },
    {
      "cell_type": "code",
      "execution_count": null,
      "metadata": {
        "id": "nvheaxJOedT9"
      },
      "outputs": [],
      "source": [
        "def sum_of_multiples(limit: int, divisor: int) -> int:\n",
        "    # implement your code\n",
        "    sum = 0\n",
        "    for num in range(1, limit + 1):\n",
        "        if num % divisor == 0:\n",
        "            sum += num\n",
        "\n",
        "    return sum\n",
        "\n",
        "\n",
        "input_data_sum_of_multiples = [(100, 7), (50, 5), (20, 3)]\n",
        "output_data_sum_of_multiples = [735, 275, 63]\n",
        "\n",
        "for input_values, output_value in zip(\n",
        "    input_data_sum_of_multiples, output_data_sum_of_multiples\n",
        "):\n",
        "    assert sum_of_multiples(*input_values) == output_value"
      ]
    },
    {
      "cell_type": "markdown",
      "metadata": {
        "id": "wDOVnwLTee8p"
      },
      "source": [
        "##8. 정수 n을 입력받아, 해당 숫자의 구구단을 출력하는 함수를 for 반복문을 사용하여 작성하세요."
      ]
    },
    {
      "cell_type": "code",
      "execution_count": null,
      "metadata": {
        "id": "YeC_cgT3ee8q"
      },
      "outputs": [],
      "source": [
        "def multiplication_table(n: int) -> str:\n",
        "    # implement your code\n",
        "    lst = list(range(1, 10))\n",
        "\n",
        "    gugudan = []\n",
        "    for i in lst:\n",
        "        gugudan.append(f\"{n} x {i} = {n*i}\")\n",
        "    # \"구분자\".join(문자열리스트)\n",
        "    return \"\\n\".join(gugudan)\n",
        "\n",
        "\n",
        "input_data_multiplication_table = [5, 7, 3, 10, 0, -2]\n",
        "output_data_multiplication_table = [\n",
        "    \"5 x 1 = 5\\n5 x 2 = 10\\n5 x 3 = 15\\n5 x 4 = 20\\n5 x 5 = 25\\n5 x 6 = 30\\n5 x 7 = 35\\n5 x 8 = 40\\n5 x 9 = 45\",\n",
        "    \"7 x 1 = 7\\n7 x 2 = 14\\n7 x 3 = 21\\n7 x 4 = 28\\n7 x 5 = 35\\n7 x 6 = 42\\n7 x 7 = 49\\n7 x 8 = 56\\n7 x 9 = 63\",\n",
        "    \"3 x 1 = 3\\n3 x 2 = 6\\n3 x 3 = 9\\n3 x 4 = 12\\n3 x 5 = 15\\n3 x 6 = 18\\n3 x 7 = 21\\n3 x 8 = 24\\n3 x 9 = 27\",\n",
        "    \"10 x 1 = 10\\n10 x 2 = 20\\n10 x 3 = 30\\n10 x 4 = 40\\n10 x 5 = 50\\n10 x 6 = 60\\n10 x 7 = 70\\n10 x 8 = 80\\n10 x 9 = 90\",\n",
        "    \"0 x 1 = 0\\n0 x 2 = 0\\n0 x 3 = 0\\n0 x 4 = 0\\n0 x 5 = 0\\n0 x 6 = 0\\n0 x 7 = 0\\n0 x 8 = 0\\n0 x 9 = 0\",\n",
        "    \"-2 x 1 = -2\\n-2 x 2 = -4\\n-2 x 3 = -6\\n-2 x 4 = -8\\n-2 x 5 = -10\\n-2 x 6 = -12\\n-2 x 7 = -14\\n-2 x 8 = -16\\n-2 x 9 = -18\",\n",
        "]\n",
        "\n",
        "for input_value, output_value in zip(\n",
        "    input_data_multiplication_table, output_data_multiplication_table\n",
        "):\n",
        "    assert multiplication_table(input_value) == output_value"
      ]
    },
    {
      "cell_type": "markdown",
      "metadata": {
        "id": "J5zjEzX3efP0"
      },
      "source": [
        "## 9. 양의 정수 n을 입력받아 소수인지 여부를 확인하는 함수를 작성하세요. 이때, for 반복문을 사용하세요."
      ]
    },
    {
      "cell_type": "code",
      "execution_count": 50,
      "metadata": {
        "id": "Q7DxZNeGefP0"
      },
      "outputs": [],
      "source": [
        "def is_prime(n: int) -> bool:\n",
        "    # implement your code\n",
        "    if n < 2:\n",
        "        return False\n",
        "\n",
        "    for num in range(2, int(n**0.5) + 1):\n",
        "        if n % num == 0:\n",
        "            return False\n",
        "    return True\n",
        "\n",
        "input_data_prime_checker = [7, 12, 19, 2, 1, 0, -3, 20]\n",
        "output_data_prime_checker = [True, False, True, True, False, False, False, False]\n",
        "\n",
        "for input_value, output_value in zip(\n",
        "    input_data_prime_checker, output_data_prime_checker\n",
        "):\n",
        "    assert is_prime(input_value) == output_value"
      ]
    },
    {
      "cell_type": "markdown",
      "metadata": {
        "id": "P5k8YQd9dmUT"
      },
      "source": [
        "## 10. 문자열 s를 입력받아, 해당 문자열을 뒤집고, 그 문자열에 포함된 모음(a, e, i, o, u)의 개수를 반환하는 두 가지 함수를 작성하세요."
      ]
    },
    {
      "cell_type": "code",
      "execution_count": null,
      "metadata": {
        "id": "EBIwt03Kdnpp"
      },
      "outputs": [],
      "source": [
        "def reverse(s: str) -> str:\n",
        "    # implement your code\n",
        "    return s[::-1]\n",
        "\n",
        "\n",
        "def count_vowels(s: str) -> int:\n",
        "    # implement your code\n",
        "    count = 0\n",
        "    for str in s.lower():\n",
        "        if str in (\"a\", \"e\", \"i\", \"o\", \"u\"):\n",
        "            count += 1\n",
        "    return count\n",
        "\n",
        "\n",
        "input_data_string_reversal_vowel_count = [\n",
        "    \"hello\",\n",
        "    \"world\",\n",
        "    \"python\",\n",
        "    \"aeiou\",\n",
        "    \"empty\",\n",
        "    \"hElLo\",\n",
        "]\n",
        "output_data_string_reversal_vowel_count = [\n",
        "    (\"olleh\", 2),\n",
        "    (\"dlrow\", 1),\n",
        "    (\"nohtyp\", 1),\n",
        "    (\"uoiea\", 5),\n",
        "    (\"ytpme\", 1),\n",
        "    (\"oLlEh\", 2),\n",
        "]\n",
        "\n",
        "for input_value, output_value in zip(\n",
        "    input_data_string_reversal_vowel_count, output_data_string_reversal_vowel_count\n",
        "):\n",
        "    assert (reverse(input_value), count_vowels(input_value)) == output_value"
      ]
    },
    {
      "cell_type": "markdown",
      "metadata": {
        "id": "mPv8F8IDdsNB"
      },
      "source": [
        "## 11. 정수 n을 입력받아, 아래와 같은 패턴을 출력하는 함수를 작성하세요. 이때, 반복문을 사용하세요.\n",
        "\n",
        "n = 5\n",
        "```\n",
        "*****\n",
        " ****\n",
        "  ***\n",
        "   **\n",
        "    *\n",
        "```"
      ]
    },
    {
      "cell_type": "code",
      "execution_count": null,
      "metadata": {
        "id": "tXDgAKGadyDx"
      },
      "outputs": [],
      "source": [
        "def gen_pattern(n: int) -> str:\n",
        "    # implement your code\n",
        "    result = []\n",
        "    for i in range(n, 0, -1):\n",
        "        result.append(\" \"* n-i) + (\"*\" * i))\n",
        "\n",
        "\n",
        "input_data_gen_pattern = [5, 3, 6, 1]\n",
        "output_data_gen_pattern = [\n",
        "    \"*****\\n ****\\n  ***\\n   **\\n    *\",\n",
        "    \"***\\n **\\n  *\",\n",
        "    \"******\\n *****\\n  ****\\n   ***\\n    **\\n     *\",\n",
        "    \"*\",\n",
        "]\n",
        "\n",
        "for input_value, output_value in zip(input_data_gen_pattern, output_data_gen_pattern):\n",
        "    assert gen_pattern(input_value) == output_value"
      ]
    },
    {
      "cell_type": "markdown",
      "metadata": {
        "id": "aTfwJbtWeNxR"
      },
      "source": [
        "## 12. 다음의 메서드를 구현하세요:\n",
        "\n",
        "* add_item(item: str) -> None: 쇼핑 리스트에 항목 추가.\n",
        "* remove_item(item: str) -> None: 쇼핑 리스트에서 항목 제거.\n",
        "* display_list() -> List[str]: 현재 쇼핑 리스트 반환.\n",
        "quit() -> None: 쇼핑 리스트 종료.\n"
      ]
    },
    {
      "cell_type": "code",
      "execution_count": null,
      "metadata": {
        "id": "APNy8a6ZeO6l"
      },
      "outputs": [],
      "source": [
        "from typing import List, Dict, Callable, Any\n",
        "\n",
        "items = []\n",
        "\n",
        "\n",
        "def add_item(item: str) -> None:\n",
        "    # implement your code\n",
        "    pass\n",
        "\n",
        "\n",
        "def remove_item(item: str) -> None:\n",
        "    # implement your code\n",
        "    pass\n",
        "\n",
        "\n",
        "def display_list(item: str) -> List[str]:\n",
        "    # implement your code\n",
        "    pass\n",
        "\n",
        "\n",
        "def quit(item: str) -> None:\n",
        "    # implement your code\n",
        "    pass\n",
        "\n",
        "\n",
        "commands = {\n",
        "    \"add\": add_item,\n",
        "    \"remove\": remove_item,\n",
        "    \"display\": display_list,\n",
        "    \"exit\": quit,\n",
        "}\n",
        "\n",
        "input_data_shopping_list = [\n",
        "    (\"add\", \"apple\"),\n",
        "    (\"add\", \"banana\"),\n",
        "    (\"add\", \"orange\"),\n",
        "    (\"display\", \"\"),\n",
        "    (\"remove\", \"banana\"),\n",
        "    (\"display\", \"\"),\n",
        "    (\"exit\", \"\"),\n",
        "]\n",
        "\n",
        "output_data_shopping_list = [\n",
        "    None,\n",
        "    None,\n",
        "    None,\n",
        "    [\"apple\", \"banana\", \"orange\"],\n",
        "    None,\n",
        "    [\"apple\", \"orange\"],\n",
        "    None,\n",
        "]\n",
        "\n",
        "for (action, item), expected_output in zip(\n",
        "    input_data_shopping_list, output_data_shopping_list\n",
        "):\n",
        "    assert commands[action](item) == expected_output"
      ]
    }
  ],
  "metadata": {
    "colab": {
      "provenance": [],
      "toc_visible": true
    },
    "kernelspec": {
      "display_name": "Python 3",
      "name": "python3"
    },
    "language_info": {
      "codemirror_mode": {
        "name": "ipython",
        "version": 3
      },
      "file_extension": ".py",
      "mimetype": "text/x-python",
      "name": "python",
      "nbconvert_exporter": "python",
      "pygments_lexer": "ipython3",
      "version": "3.9.13"
    }
  },
  "nbformat": 4,
  "nbformat_minor": 0
}
