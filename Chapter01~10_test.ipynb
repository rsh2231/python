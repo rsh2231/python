{
 "cells": [
  {
   "cell_type": "markdown",
   "id": "7e1e83cb",
   "metadata": {},
   "source": [
    "연습문제\n",
    "1. print() 함수를 이용해 인삿말을 3줄 출력해 보세요.\n",
    "\n",
    "2. 본인의 이름을 출력하는 프로그램을 작성해 보세요.\n",
    "\n",
    "3. 파이썬에서 에러 메시지가 뜰 때 어떤 식으로 나오는지 테스트해 보세요 (예: print(\"Hello) → 괄호/따옴표 오류)."
   ]
  },
  {
   "cell_type": "code",
   "execution_count": 1,
   "id": "2becc29e",
   "metadata": {},
   "outputs": [
    {
     "name": "stdout",
     "output_type": "stream",
     "text": [
      "Hello!\n",
      "My name is Paul\n",
      "Good Night\n"
     ]
    }
   ],
   "source": [
    "print(\"Hello!\")\n",
    "print('My name is Paul')\n",
    "\n",
    "print(\"Good Night\")"
   ]
  },
  {
   "cell_type": "markdown",
   "id": "caae8092",
   "metadata": {},
   "source": [
    "❓ 연습문제\n",
    "📌 1. 개인 메시지\n",
    "변수 name에 본인의 이름을 저장하고, f-string을 사용해 인삿말을 출력해 보세요.\n",
    "\n",
    "python\n",
    "복사\n",
    "편집\n",
    "# 예시 출력: Hello, Hana! Would you like to learn some Python today?"
   ]
  },
  {
   "cell_type": "code",
   "execution_count": null,
   "id": "7cb2c346",
   "metadata": {},
   "outputs": [],
   "source": [
    "name = 'paul ryu'\n",
    "print(f\"Hello! my name is {name.title()}.\")"
   ]
  },
  {
   "cell_type": "markdown",
   "id": "890f9437",
   "metadata": {},
   "source": [
    "📌 2. 이름 대소문자 변환\n",
    "변수 name에 이름을 저장하고, .upper(), .lower(), .title()로 출력해 보세요."
   ]
  },
  {
   "cell_type": "code",
   "execution_count": null,
   "id": "c344c675",
   "metadata": {},
   "outputs": [],
   "source": [
    "print(name.upper())\n",
    "print(name.lower())\n",
    "print(name.title())"
   ]
  },
  {
   "cell_type": "markdown",
   "id": "6124ef02",
   "metadata": {},
   "source": [
    "📌 3. 유명한 명언\n",
    "알버트 아인슈타인의 말을 출력해 보세요.\n",
    "\n",
    "python\n",
    "복사\n",
    "편집\n",
    "\"A person who never made a mistake never tried anything new.\"\n",
    "변수 famous_person, message를 사용해서 문장을 조합하세요."
   ]
  },
  {
   "cell_type": "code",
   "execution_count": null,
   "id": "bdc6131f",
   "metadata": {},
   "outputs": [],
   "source": [
    "famous_person = 'Albert Einstein'\n",
    "message = \"a person who never made a mistake never tried anything new.\"\n",
    "\n",
    "print(f\"{famous_person} said that {message}\")"
   ]
  },
  {
   "cell_type": "markdown",
   "id": "544efa15",
   "metadata": {},
   "source": [
    "📌 4. 공백 제거\n",
    "이름을 앞뒤 공백 포함해서 저장하고 .strip(), .lstrip(), .rstrip() 사용해 보기"
   ]
  },
  {
   "cell_type": "code",
   "execution_count": null,
   "id": "b9f09396",
   "metadata": {},
   "outputs": [],
   "source": [
    "name = '  Albert Einstein  '\n",
    "print(name.strip())\n",
    "print(name.rstrip())\n",
    "print(name.lstrip())"
   ]
  },
  {
   "cell_type": "markdown",
   "id": "4cb53fb8",
   "metadata": {},
   "source": [
    "✅ 예제 1: 사용자 맞춤 인사 시스템\n",
    "문제\n",
    "사용자에게 이름을 입력받아, f-string을 이용해 정중한 인사말을 출력하세요. 입력한 이름이 공백이 있다면 제거하세요.\n",
    "\n",
    "python\n",
    "복사\n",
    "편집\n",
    "# 출력 예:\n",
    "# 이름을 입력하세요:   alice\n",
    "# 안녕하세요, Alice님! 오늘도 좋은 하루 되세요."
   ]
  },
  {
   "cell_type": "code",
   "execution_count": null,
   "id": "f89c78bf",
   "metadata": {},
   "outputs": [],
   "source": [
    "name = input('이름을 입력하세요: ')\n",
    "print(f\"안녕하세요 {name.title()}님! 오늘도 좋은 하루 되세요!\")"
   ]
  },
  {
   "cell_type": "markdown",
   "id": "7e69469c",
   "metadata": {},
   "source": [
    "✅ 예제 2: 문자열 조작 마법사\n",
    "문제\n",
    "변수 phrase = \" Python is FUN! \"을 조작하여 다음을 출력하세요:\n",
    "\n",
    "1. 공백 제거\n",
    "\n",
    "2. 소문자로 변환\n",
    "\n",
    "3. 대문자로 변환\n",
    "\n",
    "4. 첫 글자만 대문자 (title)"
   ]
  },
  {
   "cell_type": "code",
   "execution_count": null,
   "id": "e7779165",
   "metadata": {},
   "outputs": [],
   "source": [
    "phrase = \" Python is FUN! \"\n",
    "pharse = phrase.strip()\n",
    "print(phrase)\n",
    "print(phrase.lower())\n",
    "print(phrase.upper())\n",
    "print(phrase.title())"
   ]
  },
  {
   "cell_type": "markdown",
   "id": "1d145cf9",
   "metadata": {},
   "source": [
    "✅ 예제 3: 이메일 자동 생성기\n",
    "문제\n",
    "사용자로부터 이름(first_name)과 성(last_name)을 입력받아 아래와 같은 이메일을 생성해 출력하세요:\n",
    "\n",
    "text\n",
    "복사\n",
    "편집\n",
    "입력:\n",
    "first_name: John\n",
    "last_name: Smith\n",
    "\n",
    "출력:\n",
    "john.smith@example.com"
   ]
  },
  {
   "cell_type": "code",
   "execution_count": null,
   "id": "71c88295",
   "metadata": {},
   "outputs": [],
   "source": [
    "first_name = input(\"이름을 입력해주세요: \")\n",
    "last_name = input(\"성을 입력해주세요: \")\n",
    "email = f\"{first_name}.{last_name}@example.com\"\n",
    "print(email)"
   ]
  },
  {
   "cell_type": "markdown",
   "id": "bef69261",
   "metadata": {},
   "source": [
    "✅ 예제 4: 명언 포매터\n",
    "문제\n",
    "아래 정보를 변수로 저장하고 다음 문장을 출력해보세요.\n",
    "famous_person = \"Nelson Mandela\"\n",
    "quote = \"It always seems impossible until it's done.\"\n",
    "출력:\n",
    "\n",
    "nginx\n",
    "복사\n",
    "편집\n",
    "Nelson Mandela once said, \"It always seems impossible until it's done.\""
   ]
  },
  {
   "cell_type": "code",
   "execution_count": null,
   "id": "29802e76",
   "metadata": {},
   "outputs": [],
   "source": [
    "famous_person = \"Nelson Mandela\"\n",
    "quote = \"It always seems impossible util it's done.\"\n",
    "print(f'{famous_person.title()} once said, \"{quote}\"')"
   ]
  },
  {
   "cell_type": "markdown",
   "id": "1d9af99a",
   "metadata": {},
   "source": [
    "✅ 예제 5: 이름 스타일 포매터\n",
    "문제\n",
    "사용자에게 이름을 입력받고, 다음 형식으로 출력하세요:\n",
    "\n",
    "text\n",
    "복사\n",
    "편집\n",
    "입력: eLiZaBetH\n",
    "출력:\n",
    "원본 입력: eLiZaBetH\n",
    "소문자: elizabeth\n",
    "대문자: ELIZABETH\n",
    "첫 글자만 대문자: Elizabeth"
   ]
  },
  {
   "cell_type": "code",
   "execution_count": null,
   "id": "5ef0354c",
   "metadata": {},
   "outputs": [],
   "source": [
    "name = input('이름을 입력해주세요: ')\n",
    "print(f'원본 입력: {name}')\n",
    "print(f'소문자: {name.lower()}')\n",
    "print(f'대문자: {name.upper()}')\n",
    "print(f'첫 글자만 대문자: {name.title()}')"
   ]
  },
  {
   "cell_type": "markdown",
   "id": "2d0d418c",
   "metadata": {},
   "source": [
    "❓ 연습문제\n",
    "📌 1. 좋아하는 음식 리스트\n",
    "본인이 좋아하는 음식 3가지를 리스트로 만들고 출력해보세요."
   ]
  },
  {
   "cell_type": "code",
   "execution_count": null,
   "id": "8569d22e",
   "metadata": {},
   "outputs": [],
   "source": [
    "lst = ['pizza', 'hamburger', 'coffee']\n",
    "print(lst)"
   ]
  },
  {
   "cell_type": "markdown",
   "id": "36e6eb33",
   "metadata": {},
   "source": [
    "📌 2. 리스트 인덱스 연습\n",
    "리스트에서 첫 번째, 마지막 항목을 각각 출력해 보세요.\n",
    "\n",
    ".title()을 써서 보기 좋게 출력하세요."
   ]
  },
  {
   "cell_type": "code",
   "execution_count": null,
   "id": "83906d7e",
   "metadata": {},
   "outputs": [],
   "source": [
    "print(lst[0].title(), lst[-1].title())"
   ]
  },
  {
   "cell_type": "markdown",
   "id": "1da344e1",
   "metadata": {},
   "source": [
    "📌 3. 초대장 프로그램\n",
    "친구 3명의 이름을 리스트에 저장하세요.\n",
    "\n",
    "각 친구에게 초대 메시지를 출력하세요.\n",
    "\n",
    "python\n",
    "복사\n",
    "편집\n",
    "예시 출력:\n",
    "Hi Yuna, I’d like to invite you to dinner!"
   ]
  },
  {
   "cell_type": "code",
   "execution_count": null,
   "id": "c9f20d6a",
   "metadata": {},
   "outputs": [],
   "source": [
    "friends = ['john', 'paul', 'peter']\n",
    "for friend in friends:\n",
    "    print(f\"Hi {friend.title()}, I'd like to invite you to dinner!\")"
   ]
  },
  {
   "cell_type": "markdown",
   "id": "b6a1d61a",
   "metadata": {},
   "source": [
    "📌 4. 리스트에 요소 추가 및 삭제\n",
    ".append(), .insert()로 항목 추가\n",
    "\n",
    "del, .pop(), .remove()로 삭제 실습"
   ]
  },
  {
   "cell_type": "code",
   "execution_count": null,
   "id": "d4e44543",
   "metadata": {},
   "outputs": [],
   "source": [
    "friends.append('timothy')\n",
    "friends.insert(0, 'matthew')\n",
    "del friends[2]\n",
    "friends.pop()\n",
    "# friends.remove('paul')\n",
    "print(friends)"
   ]
  },
  {
   "cell_type": "markdown",
   "id": "cfe3a342",
   "metadata": {},
   "source": [
    "📌 5. 정렬과 길이\n",
    "리스트를 정렬하고, 정렬 전후 출력해 보세요.\n",
    "\n",
    "len()으로 리스트 길이 확인"
   ]
  },
  {
   "cell_type": "code",
   "execution_count": null,
   "id": "7b36f986",
   "metadata": {},
   "outputs": [],
   "source": [
    "import numpy as np\n",
    "import random\n",
    "lst = [2, 5, 3, 4, 6, 8, 1]\n",
    "print(lst)\n",
    "lst.sort()\n",
    "print(lst)\n"
   ]
  },
  {
   "cell_type": "markdown",
   "id": "971e8b7f",
   "metadata": {},
   "source": [
    "✅ 예제 1: 초대 손님 리스트 자동화\n",
    "문제\n",
    "손님 3명을 리스트에 저장하고, 각 손님에게 초대 메시지를 출력하세요.\n",
    "그 중 한 명이 참석할 수 없다고 할 때, 그 손님을 새로운 사람으로 바꾸고 다시 전체 초대 메시지를 출력하세요."
   ]
  },
  {
   "cell_type": "code",
   "execution_count": null,
   "id": "0ba0207e",
   "metadata": {},
   "outputs": [],
   "source": [
    "guests = ['yuna', 'minho', 'sujin']\n",
    "for guest in guests:\n",
    "    print(f\"{guest.title()}님, 저녁에 오실 수 있으신가요?\")\n",
    "\n",
    "print(f\"\\n{guests[1].title()}님이 참석할 수 없다고 하셨어요.\")\n",
    "guests[1] = 'jimin'\n",
    "\n",
    "print(\"\\n다시 초대장 발송 중...\")\n",
    "for guest in guests:\n",
    "    print(f\"{guest.title()}님, 저녁에 오실 수 있으신가요?\")\n"
   ]
  },
  {
   "cell_type": "markdown",
   "id": "67cbb530",
   "metadata": {},
   "source": [
    "✅ 예제 2: 순서대로 정렬된 여행지 리스트 만들기\n",
    "문제\n",
    "가보고 싶은 장소 5곳을 리스트로 저장하고 다음을 출력하세요:\n",
    "\n",
    "1. 원래 순서\n",
    "\n",
    "2. 알파벳순 정렬 (sorted 사용)\n",
    "\n",
    "3. 원래 순서 유지\n",
    "\n",
    "4. 역순 정렬 (reverse=True)\n",
    "\n",
    "5. 다시 원래대로 정렬"
   ]
  },
  {
   "cell_type": "code",
   "execution_count": null,
   "id": "a284c3aa",
   "metadata": {},
   "outputs": [],
   "source": [
    "places = ['jeju', 'new york', 'paris', 'kyoto', 'vancouver']\n",
    "\n",
    "print(f'1. 원래 순서: {places}')\n",
    "print(f'2. 알파벳순 정렬: {sorted(places)}')\n",
    "print(f'3. 원래 순서 유지: {places}')\n",
    "places.sort(reverse=True)\n",
    "print(f'4. 역순 정렬: {places}')\n",
    "places.sort()\n",
    "print(f'5. 다시 원래대로 정렬: {places}')\n"
   ]
  },
  {
   "cell_type": "markdown",
   "id": "58af093f",
   "metadata": {},
   "source": [
    "✅ 예제 3: 리스트에서 특정 항목 여러 개 삭제하기\n",
    "문제\n",
    "리스트에 같은 이름이 여러 번 등장할 때, remove()를 반복해서 모두 지워보세요.\n",
    "\n",
    "python\n",
    "복사\n",
    "편집\n",
    "people = ['jake', 'emma', 'emma', 'sofia', 'emma']"
   ]
  },
  {
   "cell_type": "code",
   "execution_count": null,
   "id": "9223f0d2",
   "metadata": {},
   "outputs": [],
   "source": [
    "people = ['jake', 'emma', 'emma', 'sofia', 'emma']\n",
    "print(people)\n",
    "for person in people:\n",
    "    people.remove('emma')\n",
    "print(people)"
   ]
  },
  {
   "cell_type": "markdown",
   "id": "f0053a64",
   "metadata": {},
   "source": [
    "✅ 예제 4: 최근 구매한 물건 리스트 만들기 (pop 응용)\n",
    "문제\n",
    "최근 구매한 물건 5가지를 리스트에 저장하고, .pop()을 이용해 가장 최근 구매한 항목부터 하나씩 출력하고 삭제해 보세요."
   ]
  },
  {
   "cell_type": "code",
   "execution_count": null,
   "id": "cce3deab",
   "metadata": {},
   "outputs": [],
   "source": [
    "items = ['커피', '책', '헤드폰', '과자', '텀블러']\n",
    "while items:\n",
    "    print(items[-1])\n",
    "    items.pop()\n",
    "print(items) "
   ]
  },
  {
   "cell_type": "markdown",
   "id": "37564a78",
   "metadata": {},
   "source": [
    "✅ 예제 5: 사용자 입력으로 리스트 만들기\n",
    "문제\n",
    "사용자에게 이름을 계속 입력받고, 'q'를 입력하면 입력을 멈춘 후 전체 리스트를 정렬해 출력하세요."
   ]
  },
  {
   "cell_type": "code",
   "execution_count": null,
   "id": "8b835e68",
   "metadata": {},
   "outputs": [],
   "source": [
    "names = []\n",
    "\n",
    "while True:\n",
    "    name = input(\"이름을 입력해주세요:(종료키 : q)\")\n",
    "    if name == \"q\":\n",
    "        break\n",
    "    names.append(name)\n",
    "\n",
    "print(sorted(names))"
   ]
  },
  {
   "cell_type": "markdown",
   "id": "6a2313b0",
   "metadata": {},
   "source": [
    "📌 1. 1~20까지 숫자 출력\n",
    "for 루프와 range()를 사용해 1~20까지 출력하세요."
   ]
  },
  {
   "cell_type": "code",
   "execution_count": null,
   "id": "5269309b",
   "metadata": {},
   "outputs": [],
   "source": [
    "for num in range(1, 21):\n",
    "    print(num, end=\" \")"
   ]
  },
  {
   "cell_type": "markdown",
   "id": "3a98998b",
   "metadata": {},
   "source": [
    "📌 2. 1~1,000,000까지 숫자 리스트 생성 & 통계\n",
    "list(range())로 숫자 리스트 생성\n",
    "\n",
    "min(), max(), sum()을 사용해 출력해 보세요."
   ]
  },
  {
   "cell_type": "code",
   "execution_count": null,
   "id": "4d24043a",
   "metadata": {},
   "outputs": [],
   "source": [
    "lst = list(range(1, 1000001))\n",
    "\n",
    "print(min(lst))\n",
    "print(max(lst))\n",
    "print(sum(lst))"
   ]
  },
  {
   "cell_type": "markdown",
   "id": "860d1678",
   "metadata": {},
   "source": [
    "📌 3. 홀수 리스트 만들기\n",
    "range(1, 21, 2)를 사용하여 홀수 리스트를 만들어보세요."
   ]
  },
  {
   "cell_type": "code",
   "execution_count": null,
   "id": "0a8a7f20",
   "metadata": {},
   "outputs": [],
   "source": [
    "lst = list(range(1, 21, 2))\n",
    "print(lst)"
   ]
  },
  {
   "cell_type": "markdown",
   "id": "168415a4",
   "metadata": {},
   "source": [
    "📌 4. 3의 배수 리스트\n",
    "3~30 사이의 3의 배수 리스트 생성 후 출력"
   ]
  },
  {
   "cell_type": "code",
   "execution_count": null,
   "id": "913616ed",
   "metadata": {},
   "outputs": [],
   "source": [
    "lst = list(range(3, 31, 3))\n",
    "print(lst)"
   ]
  },
  {
   "cell_type": "markdown",
   "id": "84258061",
   "metadata": {},
   "source": [
    " 5. 리스트 슬라이싱 연습\n",
    "python\n",
    "복사\n",
    "편집\n",
    "players = ['kim', 'lee', 'park', 'choi', 'jung']\n",
    "처음 3명 출력\n",
    "\n",
    "중간 3명 출력\n",
    "\n",
    "마지막 3명 출력"
   ]
  },
  {
   "cell_type": "code",
   "execution_count": null,
   "id": "906d82e6",
   "metadata": {},
   "outputs": [],
   "source": [
    "players = [\"kim\", \"lee\", \"park\", \"choi\", \"jung\"]\n",
    "print(f\"처음 3명 출력: {players[:3]}\")\n",
    "mid = int(len(players) // 2)\n",
    "print(f\"중간 3명 출력: {players[mid-1:mid+2]}\")\n",
    "print(f\"마지막 3명 출력 : {players[-3:]}\")"
   ]
  },
  {
   "cell_type": "markdown",
   "id": "39d69432",
   "metadata": {},
   "source": [
    "✅ 예제 1: 3의 배수 찾기 & 제곱 저장\n",
    "문제\n",
    "1~100 사이 숫자 중에서 3의 배수만 골라서 제곱한 결과를 리스트로 저장하고 출력하세요."
   ]
  },
  {
   "cell_type": "code",
   "execution_count": null,
   "id": "4d9ad7cb",
   "metadata": {},
   "outputs": [],
   "source": [
    "lst = [num**2 for num in range(1, 101) if num % 3 == 0]\n",
    "print(lst)"
   ]
  },
  {
   "cell_type": "markdown",
   "id": "f64ac249",
   "metadata": {},
   "source": [
    "✅ 예제 2: 리스트 슬라이싱을 이용한 팀 나누기\n",
    "문제\n",
    "학생 8명을 두 팀으로 나눠보세요.\n",
    "\n",
    "리스트로 학생 이름을 만들고\n",
    "\n",
    "앞의 4명은 Team A, 뒤의 4명은 Team B로 출력하세요."
   ]
  },
  {
   "cell_type": "code",
   "execution_count": null,
   "id": "d047895f",
   "metadata": {},
   "outputs": [],
   "source": [
    "students = ['유진', '민수', '서연', '정우', '하나', '지훈', '가은', '도윤']\n",
    "A = students[:4]\n",
    "B = students[4:]\n",
    "print(f'Team A: {A}')\n",
    "print(f'Team B: {B}')\n"
   ]
  },
  {
   "cell_type": "markdown",
   "id": "43cf4002",
   "metadata": {},
   "source": [
    "✅ 예제 3: 사용자 입력을 리스트로 받아 통계 내기\n",
    "문제\n",
    "숫자를 여러 개 입력받아 리스트에 저장하고,\n",
    "\n",
    "전체 합계\n",
    "\n",
    "평균\n",
    "\n",
    "최소/최대값\n",
    "을 구하세요. 입력은 'q'로 종료합니다."
   ]
  },
  {
   "cell_type": "code",
   "execution_count": null,
   "id": "753c7d49",
   "metadata": {},
   "outputs": [],
   "source": [
    "numbers = [1, 2, 3, 4, 5]\n",
    "print(f\"전체 합계: {sum(numbers)}\")\n",
    "print(f\"평균: {sum(numbers) / len(numbers)}\")\n",
    "print(f\"최소값: {min(numbers)}, 최대값: {max(numbers)}\")"
   ]
  },
  {
   "cell_type": "markdown",
   "id": "ac3ddae1",
   "metadata": {},
   "source": [
    "✅ 예제 4: 리스트 복사와 독립성 테스트\n",
    "문제\n",
    "리스트를 복사한 후 원본과 복사본에 서로 다른 항목을 추가하고\n",
    "두 리스트가 서로 영향을 주지 않는지 확인하세요."
   ]
  },
  {
   "cell_type": "code",
   "execution_count": null,
   "id": "dc7645ca",
   "metadata": {},
   "outputs": [],
   "source": [
    "my_books = ['python', 'java', 'html']\n",
    "copy_books = my_books[:]\n",
    "my_books.append('java script')\n",
    "copy_books.append('nextjs')\n",
    "print(f\"원본 : {my_books}\")\n",
    "print(f\"복사본 : {copy_books}\")"
   ]
  },
  {
   "cell_type": "markdown",
   "id": "83175155",
   "metadata": {},
   "source": [
    "✅ 예제 5: 리스트의 마지막 3개 요소 반복 출력\n",
    "문제\n",
    "리스트에서 마지막 3개의 항목을 슬라이싱해서\n",
    "각 항목을 대문자로 출력해 보세요."
   ]
  },
  {
   "cell_type": "code",
   "execution_count": null,
   "id": "5a21564a",
   "metadata": {},
   "outputs": [],
   "source": [
    "languages = ['python', 'java', 'c', 'javascript', 'typescript']\n",
    "print([lang.upper() for lang in languages[-3:]])"
   ]
  },
  {
   "cell_type": "markdown",
   "id": "c96da9a2",
   "metadata": {},
   "source": [
    "📘 문제 1. 1~50까지의 짝수 제곱 리스트 만들기\n",
    "range()와 for 또는 리스트 컴프리헨션을 사용해\n",
    "\n",
    "짝수만 골라 제곱한 값을 리스트로 만들어 출력하세요"
   ]
  },
  {
   "cell_type": "code",
   "execution_count": null,
   "id": "5b662c48",
   "metadata": {},
   "outputs": [],
   "source": [
    "lst = [num**2 for num in range(2, 51, 2)]\n",
    "print(lst)"
   ]
  },
  {
   "cell_type": "markdown",
   "id": "44f358cc",
   "metadata": {},
   "source": [
    "📘 문제 2. 이름 리스트에서 이름 길이가 3 이상인 사람만 대문자로 출력"
   ]
  },
  {
   "cell_type": "code",
   "execution_count": null,
   "id": "e6fdcc12",
   "metadata": {},
   "outputs": [],
   "source": [
    "names = ['kim', 'lee', 'jo', 'park', 'choi', 'yu']\n",
    "lst = [name.upper() for name in names if len(name) >= 3]\n",
    "print(lst)"
   ]
  },
  {
   "cell_type": "markdown",
   "id": "1ff7b9c1",
   "metadata": {},
   "source": [
    "📘 문제 3. 리스트 슬라이싱으로 데이터 분할\n",
    "처음 3개\n",
    "\n",
    "중간 3개\n",
    "\n",
    "마지막 3개 항목을 각각 출력하세요\n",
    "(힌트: 리스트 길이와 // 연산자를 활용해 보세요)"
   ]
  },
  {
   "cell_type": "code",
   "execution_count": null,
   "id": "a83d9189",
   "metadata": {},
   "outputs": [],
   "source": [
    "fruits = ['apple', 'banana', 'cherry', 'mango', 'grape', 'melon', 'kiwi']\n",
    "print(f\"처음 3개: {fruits[:3]}\")\n",
    "mid = int(len(fruits) // 2)\n",
    "print(f\"중간 3개: {fruits[mid-1:mid+2]}\")\n",
    "print(f\"마지막 3개: {fruits[-3:]}\")"
   ]
  },
  {
   "cell_type": "markdown",
   "id": "d2764ab9",
   "metadata": {},
   "source": [
    "📘 문제 4. 리스트에서 중복 없이 제곱 결과 만들기\n",
    "중복된 숫자를 제거하고 각 숫자의 제곱 값을 리스트로 만들어 출력하세요"
   ]
  },
  {
   "cell_type": "code",
   "execution_count": null,
   "id": "5742c704",
   "metadata": {},
   "outputs": [],
   "source": [
    "nums = [1, 2, 2, 3, 4, 4, 5]\n",
    "lst = [num**2 for num in set(nums)]\n",
    "print(lst)"
   ]
  },
  {
   "cell_type": "markdown",
   "id": "c1943b19",
   "metadata": {},
   "source": [
    "📘 문제 5. 사용자로부터 숫자 5개 입력받아 오름차순으로 정렬 후 슬라이싱\n",
    "사용자에게 숫자를 5개 입력받아 리스트에 저장한 후\n",
    "정렬하여 가장 작은 2개, 가장 큰 2개만 출력하세요\n",
    "# 예시 입력: 8, 2, 5, 9, 1\n",
    "# 결과: 가장 작은 2개: [1, 2], 가장 큰 2개: [8, 9]"
   ]
  },
  {
   "cell_type": "code",
   "execution_count": null,
   "id": "8a8eaae8",
   "metadata": {},
   "outputs": [],
   "source": [
    "nums = [8, 2, 5, 9, 1]\n",
    "nums.sort()\n",
    "print(nums[:2])\n",
    "print(nums[-2:])\n"
   ]
  },
  {
   "cell_type": "markdown",
   "id": "30ddfd4e",
   "metadata": {},
   "source": [
    "📘 문제 1. 짝수/홀수 판별기\n",
    "사용자에게 정수를 입력받고, 짝수인지 홀수인지 판별해서 출력하세요."
   ]
  },
  {
   "cell_type": "code",
   "execution_count": null,
   "id": "84824ddc",
   "metadata": {},
   "outputs": [],
   "source": [
    "while True:\n",
    "\n",
    "    num = input(\"숫자를 입력하세요:(종료키 : q)\")\n",
    "\n",
    "    if num == \"q\":\n",
    "        print(\"종료합니다.\")\n",
    "        break\n",
    "    try:\n",
    "        number = int(num)\n",
    "        if number % 2 == 0:\n",
    "            print(\"짝수입니다.\")\n",
    "        else:\n",
    "            print(\"홀수입니다.\")\n",
    "    except ValueError:\n",
    "        print(\"⚠️ 정수를 입력하거나 'q'로 종료하세요.\")"
   ]
  },
  {
   "cell_type": "markdown",
   "id": "e3670305",
   "metadata": {},
   "source": [
    "📘 문제 2. 나이 구분 프로그램\n",
    "사용자에게 나이를 입력받고,\n",
    "\n",
    "18세 이상이면 \"성인입니다.\"\n",
    "\n",
    "13세 이상 17세 이하면 \"청소년입니다.\"\n",
    "\n",
    "13세 미만이면 \"어린이입니다.\"\n",
    "라고 출력하세요."
   ]
  },
  {
   "cell_type": "code",
   "execution_count": null,
   "id": "4cf2ce48",
   "metadata": {},
   "outputs": [
    {
     "name": "stdout",
     "output_type": "stream",
     "text": [
      "어린이입니다.\n",
      "어린이입니다.\n",
      "어린이입니다.\n",
      "청소년입니다.\n",
      "성인입니다.\n",
      "⚠️ 정수를 입력하거나 'q'로 종료하세요.\n",
      "성인입니다.\n",
      "성인입니다.\n",
      "성인입니다.\n",
      "청소년입니다.\n",
      "어린이입니다.\n",
      "어린이입니다.\n",
      "청소년입니다.\n",
      "어린이입니다.\n"
     ]
    }
   ],
   "source": [
    "while True:\n",
    "    value = input(\"나이를 입력하세요:(종료키 : q)\")\n",
    "    \n",
    "    if value == 'q':\n",
    "        print(\"종료합니다.\")\n",
    "        break\n",
    "    try:\n",
    "        age = int(value)\n",
    "        if age >= 18:\n",
    "            print(\"성인입니다.\")\n",
    "        elif 13 <= age <= 17 :\n",
    "            print(\"청소년입니다.\")\n",
    "        else:\n",
    "            print(\"어린이입니다.\")\n",
    "    except ValueError:\n",
    "        print(\"⚠️ 정수를 입력하거나 'q'로 종료하세요.\")     "
   ]
  }
 ],
 "metadata": {
  "kernelspec": {
   "display_name": "Python 3",
   "language": "python",
   "name": "python3"
  },
  "language_info": {
   "codemirror_mode": {
    "name": "ipython",
    "version": 3
   },
   "file_extension": ".py",
   "mimetype": "text/x-python",
   "name": "python",
   "nbconvert_exporter": "python",
   "pygments_lexer": "ipython3",
   "version": "3.9.13"
  }
 },
 "nbformat": 4,
 "nbformat_minor": 5
}
